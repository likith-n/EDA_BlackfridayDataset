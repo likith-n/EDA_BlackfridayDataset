{
 "cells": [
  {
   "cell_type": "markdown",
   "id": "951ec728",
   "metadata": {
    "papermill": {
     "duration": 0.015709,
     "end_time": "2025-06-20T18:34:39.125303",
     "exception": false,
     "start_time": "2025-06-20T18:34:39.109594",
     "status": "completed"
    },
    "tags": []
   },
   "source": [
    "## EDA and Data Preprocessing on Black Friday Dataset\n"
   ]
  },
  {
   "cell_type": "code",
   "execution_count": 1,
   "id": "3aedd2c4",
   "metadata": {
    "execution": {
     "iopub.execute_input": "2025-06-20T18:34:39.142727Z",
     "iopub.status.busy": "2025-06-20T18:34:39.141984Z",
     "iopub.status.idle": "2025-06-20T18:34:39.149851Z",
     "shell.execute_reply": "2025-06-20T18:34:39.148895Z"
    },
    "papermill": {
     "duration": 0.017436,
     "end_time": "2025-06-20T18:34:39.151516",
     "exception": false,
     "start_time": "2025-06-20T18:34:39.134080",
     "status": "completed"
    },
    "tags": []
   },
   "outputs": [],
   "source": [
    "import warnings\n",
    "warnings.filterwarnings(\"ignore\")\n"
   ]
  },
  {
   "cell_type": "code",
   "execution_count": 2,
   "id": "2e4f63fd",
   "metadata": {
    "execution": {
     "iopub.execute_input": "2025-06-20T18:34:39.168049Z",
     "iopub.status.busy": "2025-06-20T18:34:39.167372Z",
     "iopub.status.idle": "2025-06-20T18:34:42.926464Z",
     "shell.execute_reply": "2025-06-20T18:34:42.925520Z"
    },
    "papermill": {
     "duration": 3.76914,
     "end_time": "2025-06-20T18:34:42.928174",
     "exception": false,
     "start_time": "2025-06-20T18:34:39.159034",
     "status": "completed"
    },
    "tags": []
   },
   "outputs": [],
   "source": [
    "import pandas as pd\n",
    "import numpy as np\n",
    "import matplotlib.pyplot as plt\n",
    "import seaborn as sns\n"
   ]
  },
  {
   "cell_type": "code",
   "execution_count": 3,
   "id": "a2a6046e",
   "metadata": {
    "execution": {
     "iopub.execute_input": "2025-06-20T18:34:42.943467Z",
     "iopub.status.busy": "2025-06-20T18:34:42.943040Z",
     "iopub.status.idle": "2025-06-20T18:34:43.388779Z",
     "shell.execute_reply": "2025-06-20T18:34:43.387441Z"
    },
    "papermill": {
     "duration": 0.455194,
     "end_time": "2025-06-20T18:34:43.390499",
     "exception": false,
     "start_time": "2025-06-20T18:34:42.935305",
     "status": "completed"
    },
    "tags": []
   },
   "outputs": [],
   "source": [
    "test=pd.read_csv('/kaggle/input/blackfriday/blackfriday_test.csv')"
   ]
  },
  {
   "cell_type": "code",
   "execution_count": 4,
   "id": "5a48a053",
   "metadata": {
    "execution": {
     "iopub.execute_input": "2025-06-20T18:34:43.407141Z",
     "iopub.status.busy": "2025-06-20T18:34:43.406128Z",
     "iopub.status.idle": "2025-06-20T18:34:44.428350Z",
     "shell.execute_reply": "2025-06-20T18:34:44.427340Z"
    },
    "papermill": {
     "duration": 1.032516,
     "end_time": "2025-06-20T18:34:44.430150",
     "exception": false,
     "start_time": "2025-06-20T18:34:43.397634",
     "status": "completed"
    },
    "tags": []
   },
   "outputs": [],
   "source": [
    "train=pd.read_csv('/kaggle/input/blackfriday/blackfriday_train.csv')"
   ]
  },
  {
   "cell_type": "code",
   "execution_count": 5,
   "id": "81b3e2a4",
   "metadata": {
    "execution": {
     "iopub.execute_input": "2025-06-20T18:34:44.445929Z",
     "iopub.status.busy": "2025-06-20T18:34:44.445578Z",
     "iopub.status.idle": "2025-06-20T18:34:44.478633Z",
     "shell.execute_reply": "2025-06-20T18:34:44.477660Z"
    },
    "papermill": {
     "duration": 0.042921,
     "end_time": "2025-06-20T18:34:44.480212",
     "exception": false,
     "start_time": "2025-06-20T18:34:44.437291",
     "status": "completed"
    },
    "tags": []
   },
   "outputs": [
    {
     "data": {
      "text/html": [
       "<div>\n",
       "<style scoped>\n",
       "    .dataframe tbody tr th:only-of-type {\n",
       "        vertical-align: middle;\n",
       "    }\n",
       "\n",
       "    .dataframe tbody tr th {\n",
       "        vertical-align: top;\n",
       "    }\n",
       "\n",
       "    .dataframe thead th {\n",
       "        text-align: right;\n",
       "    }\n",
       "</style>\n",
       "<table border=\"1\" class=\"dataframe\">\n",
       "  <thead>\n",
       "    <tr style=\"text-align: right;\">\n",
       "      <th></th>\n",
       "      <th>User_ID</th>\n",
       "      <th>Product_ID</th>\n",
       "      <th>Gender</th>\n",
       "      <th>Age</th>\n",
       "      <th>Occupation</th>\n",
       "      <th>City_Category</th>\n",
       "      <th>Stay_In_Current_City_Years</th>\n",
       "      <th>Marital_Status</th>\n",
       "      <th>Product_Category_1</th>\n",
       "      <th>Product_Category_2</th>\n",
       "      <th>Product_Category_3</th>\n",
       "    </tr>\n",
       "  </thead>\n",
       "  <tbody>\n",
       "    <tr>\n",
       "      <th>0</th>\n",
       "      <td>1000004</td>\n",
       "      <td>P00128942</td>\n",
       "      <td>M</td>\n",
       "      <td>46-50</td>\n",
       "      <td>7</td>\n",
       "      <td>B</td>\n",
       "      <td>2</td>\n",
       "      <td>1</td>\n",
       "      <td>1</td>\n",
       "      <td>11.0</td>\n",
       "      <td>NaN</td>\n",
       "    </tr>\n",
       "    <tr>\n",
       "      <th>1</th>\n",
       "      <td>1000009</td>\n",
       "      <td>P00113442</td>\n",
       "      <td>M</td>\n",
       "      <td>26-35</td>\n",
       "      <td>17</td>\n",
       "      <td>C</td>\n",
       "      <td>0</td>\n",
       "      <td>0</td>\n",
       "      <td>3</td>\n",
       "      <td>5.0</td>\n",
       "      <td>NaN</td>\n",
       "    </tr>\n",
       "    <tr>\n",
       "      <th>2</th>\n",
       "      <td>1000010</td>\n",
       "      <td>P00288442</td>\n",
       "      <td>F</td>\n",
       "      <td>36-45</td>\n",
       "      <td>1</td>\n",
       "      <td>B</td>\n",
       "      <td>4+</td>\n",
       "      <td>1</td>\n",
       "      <td>5</td>\n",
       "      <td>14.0</td>\n",
       "      <td>NaN</td>\n",
       "    </tr>\n",
       "    <tr>\n",
       "      <th>3</th>\n",
       "      <td>1000010</td>\n",
       "      <td>P00145342</td>\n",
       "      <td>F</td>\n",
       "      <td>36-45</td>\n",
       "      <td>1</td>\n",
       "      <td>B</td>\n",
       "      <td>4+</td>\n",
       "      <td>1</td>\n",
       "      <td>4</td>\n",
       "      <td>9.0</td>\n",
       "      <td>NaN</td>\n",
       "    </tr>\n",
       "    <tr>\n",
       "      <th>4</th>\n",
       "      <td>1000011</td>\n",
       "      <td>P00053842</td>\n",
       "      <td>F</td>\n",
       "      <td>26-35</td>\n",
       "      <td>1</td>\n",
       "      <td>C</td>\n",
       "      <td>1</td>\n",
       "      <td>0</td>\n",
       "      <td>4</td>\n",
       "      <td>5.0</td>\n",
       "      <td>12.0</td>\n",
       "    </tr>\n",
       "    <tr>\n",
       "      <th>...</th>\n",
       "      <td>...</td>\n",
       "      <td>...</td>\n",
       "      <td>...</td>\n",
       "      <td>...</td>\n",
       "      <td>...</td>\n",
       "      <td>...</td>\n",
       "      <td>...</td>\n",
       "      <td>...</td>\n",
       "      <td>...</td>\n",
       "      <td>...</td>\n",
       "      <td>...</td>\n",
       "    </tr>\n",
       "    <tr>\n",
       "      <th>233594</th>\n",
       "      <td>1006036</td>\n",
       "      <td>P00118942</td>\n",
       "      <td>F</td>\n",
       "      <td>26-35</td>\n",
       "      <td>15</td>\n",
       "      <td>B</td>\n",
       "      <td>4+</td>\n",
       "      <td>1</td>\n",
       "      <td>8</td>\n",
       "      <td>NaN</td>\n",
       "      <td>NaN</td>\n",
       "    </tr>\n",
       "    <tr>\n",
       "      <th>233595</th>\n",
       "      <td>1006036</td>\n",
       "      <td>P00254642</td>\n",
       "      <td>F</td>\n",
       "      <td>26-35</td>\n",
       "      <td>15</td>\n",
       "      <td>B</td>\n",
       "      <td>4+</td>\n",
       "      <td>1</td>\n",
       "      <td>5</td>\n",
       "      <td>8.0</td>\n",
       "      <td>NaN</td>\n",
       "    </tr>\n",
       "    <tr>\n",
       "      <th>233596</th>\n",
       "      <td>1006036</td>\n",
       "      <td>P00031842</td>\n",
       "      <td>F</td>\n",
       "      <td>26-35</td>\n",
       "      <td>15</td>\n",
       "      <td>B</td>\n",
       "      <td>4+</td>\n",
       "      <td>1</td>\n",
       "      <td>1</td>\n",
       "      <td>5.0</td>\n",
       "      <td>12.0</td>\n",
       "    </tr>\n",
       "    <tr>\n",
       "      <th>233597</th>\n",
       "      <td>1006037</td>\n",
       "      <td>P00124742</td>\n",
       "      <td>F</td>\n",
       "      <td>46-50</td>\n",
       "      <td>1</td>\n",
       "      <td>C</td>\n",
       "      <td>4+</td>\n",
       "      <td>0</td>\n",
       "      <td>10</td>\n",
       "      <td>16.0</td>\n",
       "      <td>NaN</td>\n",
       "    </tr>\n",
       "    <tr>\n",
       "      <th>233598</th>\n",
       "      <td>1006039</td>\n",
       "      <td>P00316642</td>\n",
       "      <td>F</td>\n",
       "      <td>46-50</td>\n",
       "      <td>0</td>\n",
       "      <td>B</td>\n",
       "      <td>4+</td>\n",
       "      <td>1</td>\n",
       "      <td>4</td>\n",
       "      <td>5.0</td>\n",
       "      <td>NaN</td>\n",
       "    </tr>\n",
       "  </tbody>\n",
       "</table>\n",
       "<p>233599 rows × 11 columns</p>\n",
       "</div>"
      ],
      "text/plain": [
       "        User_ID Product_ID Gender    Age  Occupation City_Category  \\\n",
       "0       1000004  P00128942      M  46-50           7             B   \n",
       "1       1000009  P00113442      M  26-35          17             C   \n",
       "2       1000010  P00288442      F  36-45           1             B   \n",
       "3       1000010  P00145342      F  36-45           1             B   \n",
       "4       1000011  P00053842      F  26-35           1             C   \n",
       "...         ...        ...    ...    ...         ...           ...   \n",
       "233594  1006036  P00118942      F  26-35          15             B   \n",
       "233595  1006036  P00254642      F  26-35          15             B   \n",
       "233596  1006036  P00031842      F  26-35          15             B   \n",
       "233597  1006037  P00124742      F  46-50           1             C   \n",
       "233598  1006039  P00316642      F  46-50           0             B   \n",
       "\n",
       "       Stay_In_Current_City_Years  Marital_Status  Product_Category_1  \\\n",
       "0                               2               1                   1   \n",
       "1                               0               0                   3   \n",
       "2                              4+               1                   5   \n",
       "3                              4+               1                   4   \n",
       "4                               1               0                   4   \n",
       "...                           ...             ...                 ...   \n",
       "233594                         4+               1                   8   \n",
       "233595                         4+               1                   5   \n",
       "233596                         4+               1                   1   \n",
       "233597                         4+               0                  10   \n",
       "233598                         4+               1                   4   \n",
       "\n",
       "        Product_Category_2  Product_Category_3  \n",
       "0                     11.0                 NaN  \n",
       "1                      5.0                 NaN  \n",
       "2                     14.0                 NaN  \n",
       "3                      9.0                 NaN  \n",
       "4                      5.0                12.0  \n",
       "...                    ...                 ...  \n",
       "233594                 NaN                 NaN  \n",
       "233595                 8.0                 NaN  \n",
       "233596                 5.0                12.0  \n",
       "233597                16.0                 NaN  \n",
       "233598                 5.0                 NaN  \n",
       "\n",
       "[233599 rows x 11 columns]"
      ]
     },
     "execution_count": 5,
     "metadata": {},
     "output_type": "execute_result"
    }
   ],
   "source": [
    "test"
   ]
  },
  {
   "cell_type": "code",
   "execution_count": 6,
   "id": "e6ad8b70",
   "metadata": {
    "execution": {
     "iopub.execute_input": "2025-06-20T18:34:44.496443Z",
     "iopub.status.busy": "2025-06-20T18:34:44.496070Z",
     "iopub.status.idle": "2025-06-20T18:34:44.511066Z",
     "shell.execute_reply": "2025-06-20T18:34:44.510153Z"
    },
    "papermill": {
     "duration": 0.02502,
     "end_time": "2025-06-20T18:34:44.512871",
     "exception": false,
     "start_time": "2025-06-20T18:34:44.487851",
     "status": "completed"
    },
    "tags": []
   },
   "outputs": [
    {
     "data": {
      "text/html": [
       "<div>\n",
       "<style scoped>\n",
       "    .dataframe tbody tr th:only-of-type {\n",
       "        vertical-align: middle;\n",
       "    }\n",
       "\n",
       "    .dataframe tbody tr th {\n",
       "        vertical-align: top;\n",
       "    }\n",
       "\n",
       "    .dataframe thead th {\n",
       "        text-align: right;\n",
       "    }\n",
       "</style>\n",
       "<table border=\"1\" class=\"dataframe\">\n",
       "  <thead>\n",
       "    <tr style=\"text-align: right;\">\n",
       "      <th></th>\n",
       "      <th>User_ID</th>\n",
       "      <th>Product_ID</th>\n",
       "      <th>Gender</th>\n",
       "      <th>Age</th>\n",
       "      <th>Occupation</th>\n",
       "      <th>City_Category</th>\n",
       "      <th>Stay_In_Current_City_Years</th>\n",
       "      <th>Marital_Status</th>\n",
       "      <th>Product_Category_1</th>\n",
       "      <th>Product_Category_2</th>\n",
       "      <th>Product_Category_3</th>\n",
       "      <th>Purchase</th>\n",
       "    </tr>\n",
       "  </thead>\n",
       "  <tbody>\n",
       "    <tr>\n",
       "      <th>0</th>\n",
       "      <td>1000001</td>\n",
       "      <td>P00069042</td>\n",
       "      <td>F</td>\n",
       "      <td>0-17</td>\n",
       "      <td>10</td>\n",
       "      <td>A</td>\n",
       "      <td>2</td>\n",
       "      <td>0</td>\n",
       "      <td>3</td>\n",
       "      <td>NaN</td>\n",
       "      <td>NaN</td>\n",
       "      <td>8370</td>\n",
       "    </tr>\n",
       "    <tr>\n",
       "      <th>1</th>\n",
       "      <td>1000001</td>\n",
       "      <td>P00248942</td>\n",
       "      <td>F</td>\n",
       "      <td>0-17</td>\n",
       "      <td>10</td>\n",
       "      <td>A</td>\n",
       "      <td>2</td>\n",
       "      <td>0</td>\n",
       "      <td>1</td>\n",
       "      <td>6.0</td>\n",
       "      <td>14.0</td>\n",
       "      <td>15200</td>\n",
       "    </tr>\n",
       "    <tr>\n",
       "      <th>2</th>\n",
       "      <td>1000001</td>\n",
       "      <td>P00087842</td>\n",
       "      <td>F</td>\n",
       "      <td>0-17</td>\n",
       "      <td>10</td>\n",
       "      <td>A</td>\n",
       "      <td>2</td>\n",
       "      <td>0</td>\n",
       "      <td>12</td>\n",
       "      <td>NaN</td>\n",
       "      <td>NaN</td>\n",
       "      <td>1422</td>\n",
       "    </tr>\n",
       "    <tr>\n",
       "      <th>3</th>\n",
       "      <td>1000001</td>\n",
       "      <td>P00085442</td>\n",
       "      <td>F</td>\n",
       "      <td>0-17</td>\n",
       "      <td>10</td>\n",
       "      <td>A</td>\n",
       "      <td>2</td>\n",
       "      <td>0</td>\n",
       "      <td>12</td>\n",
       "      <td>14.0</td>\n",
       "      <td>NaN</td>\n",
       "      <td>1057</td>\n",
       "    </tr>\n",
       "    <tr>\n",
       "      <th>4</th>\n",
       "      <td>1000002</td>\n",
       "      <td>P00285442</td>\n",
       "      <td>M</td>\n",
       "      <td>55+</td>\n",
       "      <td>16</td>\n",
       "      <td>C</td>\n",
       "      <td>4+</td>\n",
       "      <td>0</td>\n",
       "      <td>8</td>\n",
       "      <td>NaN</td>\n",
       "      <td>NaN</td>\n",
       "      <td>7969</td>\n",
       "    </tr>\n",
       "    <tr>\n",
       "      <th>...</th>\n",
       "      <td>...</td>\n",
       "      <td>...</td>\n",
       "      <td>...</td>\n",
       "      <td>...</td>\n",
       "      <td>...</td>\n",
       "      <td>...</td>\n",
       "      <td>...</td>\n",
       "      <td>...</td>\n",
       "      <td>...</td>\n",
       "      <td>...</td>\n",
       "      <td>...</td>\n",
       "      <td>...</td>\n",
       "    </tr>\n",
       "    <tr>\n",
       "      <th>550063</th>\n",
       "      <td>1006033</td>\n",
       "      <td>P00372445</td>\n",
       "      <td>M</td>\n",
       "      <td>51-55</td>\n",
       "      <td>13</td>\n",
       "      <td>B</td>\n",
       "      <td>1</td>\n",
       "      <td>1</td>\n",
       "      <td>20</td>\n",
       "      <td>NaN</td>\n",
       "      <td>NaN</td>\n",
       "      <td>368</td>\n",
       "    </tr>\n",
       "    <tr>\n",
       "      <th>550064</th>\n",
       "      <td>1006035</td>\n",
       "      <td>P00375436</td>\n",
       "      <td>F</td>\n",
       "      <td>26-35</td>\n",
       "      <td>1</td>\n",
       "      <td>C</td>\n",
       "      <td>3</td>\n",
       "      <td>0</td>\n",
       "      <td>20</td>\n",
       "      <td>NaN</td>\n",
       "      <td>NaN</td>\n",
       "      <td>371</td>\n",
       "    </tr>\n",
       "    <tr>\n",
       "      <th>550065</th>\n",
       "      <td>1006036</td>\n",
       "      <td>P00375436</td>\n",
       "      <td>F</td>\n",
       "      <td>26-35</td>\n",
       "      <td>15</td>\n",
       "      <td>B</td>\n",
       "      <td>4+</td>\n",
       "      <td>1</td>\n",
       "      <td>20</td>\n",
       "      <td>NaN</td>\n",
       "      <td>NaN</td>\n",
       "      <td>137</td>\n",
       "    </tr>\n",
       "    <tr>\n",
       "      <th>550066</th>\n",
       "      <td>1006038</td>\n",
       "      <td>P00375436</td>\n",
       "      <td>F</td>\n",
       "      <td>55+</td>\n",
       "      <td>1</td>\n",
       "      <td>C</td>\n",
       "      <td>2</td>\n",
       "      <td>0</td>\n",
       "      <td>20</td>\n",
       "      <td>NaN</td>\n",
       "      <td>NaN</td>\n",
       "      <td>365</td>\n",
       "    </tr>\n",
       "    <tr>\n",
       "      <th>550067</th>\n",
       "      <td>1006039</td>\n",
       "      <td>P00371644</td>\n",
       "      <td>F</td>\n",
       "      <td>46-50</td>\n",
       "      <td>0</td>\n",
       "      <td>B</td>\n",
       "      <td>4+</td>\n",
       "      <td>1</td>\n",
       "      <td>20</td>\n",
       "      <td>NaN</td>\n",
       "      <td>NaN</td>\n",
       "      <td>490</td>\n",
       "    </tr>\n",
       "  </tbody>\n",
       "</table>\n",
       "<p>550068 rows × 12 columns</p>\n",
       "</div>"
      ],
      "text/plain": [
       "        User_ID Product_ID Gender    Age  Occupation City_Category  \\\n",
       "0       1000001  P00069042      F   0-17          10             A   \n",
       "1       1000001  P00248942      F   0-17          10             A   \n",
       "2       1000001  P00087842      F   0-17          10             A   \n",
       "3       1000001  P00085442      F   0-17          10             A   \n",
       "4       1000002  P00285442      M    55+          16             C   \n",
       "...         ...        ...    ...    ...         ...           ...   \n",
       "550063  1006033  P00372445      M  51-55          13             B   \n",
       "550064  1006035  P00375436      F  26-35           1             C   \n",
       "550065  1006036  P00375436      F  26-35          15             B   \n",
       "550066  1006038  P00375436      F    55+           1             C   \n",
       "550067  1006039  P00371644      F  46-50           0             B   \n",
       "\n",
       "       Stay_In_Current_City_Years  Marital_Status  Product_Category_1  \\\n",
       "0                               2               0                   3   \n",
       "1                               2               0                   1   \n",
       "2                               2               0                  12   \n",
       "3                               2               0                  12   \n",
       "4                              4+               0                   8   \n",
       "...                           ...             ...                 ...   \n",
       "550063                          1               1                  20   \n",
       "550064                          3               0                  20   \n",
       "550065                         4+               1                  20   \n",
       "550066                          2               0                  20   \n",
       "550067                         4+               1                  20   \n",
       "\n",
       "        Product_Category_2  Product_Category_3  Purchase  \n",
       "0                      NaN                 NaN      8370  \n",
       "1                      6.0                14.0     15200  \n",
       "2                      NaN                 NaN      1422  \n",
       "3                     14.0                 NaN      1057  \n",
       "4                      NaN                 NaN      7969  \n",
       "...                    ...                 ...       ...  \n",
       "550063                 NaN                 NaN       368  \n",
       "550064                 NaN                 NaN       371  \n",
       "550065                 NaN                 NaN       137  \n",
       "550066                 NaN                 NaN       365  \n",
       "550067                 NaN                 NaN       490  \n",
       "\n",
       "[550068 rows x 12 columns]"
      ]
     },
     "execution_count": 6,
     "metadata": {},
     "output_type": "execute_result"
    }
   ],
   "source": [
    "train"
   ]
  },
  {
   "cell_type": "code",
   "execution_count": 7,
   "id": "f788a420",
   "metadata": {
    "execution": {
     "iopub.execute_input": "2025-06-20T18:34:44.529873Z",
     "iopub.status.busy": "2025-06-20T18:34:44.529520Z",
     "iopub.status.idle": "2025-06-20T18:34:44.694622Z",
     "shell.execute_reply": "2025-06-20T18:34:44.693471Z"
    },
    "papermill": {
     "duration": 0.175428,
     "end_time": "2025-06-20T18:34:44.696384",
     "exception": false,
     "start_time": "2025-06-20T18:34:44.520956",
     "status": "completed"
    },
    "tags": []
   },
   "outputs": [
    {
     "name": "stdout",
     "output_type": "stream",
     "text": [
      "<class 'pandas.core.frame.DataFrame'>\n",
      "RangeIndex: 550068 entries, 0 to 550067\n",
      "Data columns (total 12 columns):\n",
      " #   Column                      Non-Null Count   Dtype  \n",
      "---  ------                      --------------   -----  \n",
      " 0   User_ID                     550068 non-null  int64  \n",
      " 1   Product_ID                  550068 non-null  object \n",
      " 2   Gender                      550068 non-null  object \n",
      " 3   Age                         550068 non-null  object \n",
      " 4   Occupation                  550068 non-null  int64  \n",
      " 5   City_Category               550068 non-null  object \n",
      " 6   Stay_In_Current_City_Years  550068 non-null  object \n",
      " 7   Marital_Status              550068 non-null  int64  \n",
      " 8   Product_Category_1          550068 non-null  int64  \n",
      " 9   Product_Category_2          376430 non-null  float64\n",
      " 10  Product_Category_3          166821 non-null  float64\n",
      " 11  Purchase                    550068 non-null  int64  \n",
      "dtypes: float64(2), int64(5), object(5)\n",
      "memory usage: 50.4+ MB\n"
     ]
    }
   ],
   "source": [
    "train.info()"
   ]
  },
  {
   "cell_type": "code",
   "execution_count": 8,
   "id": "19af95f5",
   "metadata": {
    "execution": {
     "iopub.execute_input": "2025-06-20T18:34:44.713517Z",
     "iopub.status.busy": "2025-06-20T18:34:44.713047Z",
     "iopub.status.idle": "2025-06-20T18:34:44.881647Z",
     "shell.execute_reply": "2025-06-20T18:34:44.880690Z"
    },
    "papermill": {
     "duration": 0.178771,
     "end_time": "2025-06-20T18:34:44.883220",
     "exception": false,
     "start_time": "2025-06-20T18:34:44.704449",
     "status": "completed"
    },
    "tags": []
   },
   "outputs": [
    {
     "data": {
      "text/html": [
       "<div>\n",
       "<style scoped>\n",
       "    .dataframe tbody tr th:only-of-type {\n",
       "        vertical-align: middle;\n",
       "    }\n",
       "\n",
       "    .dataframe tbody tr th {\n",
       "        vertical-align: top;\n",
       "    }\n",
       "\n",
       "    .dataframe thead th {\n",
       "        text-align: right;\n",
       "    }\n",
       "</style>\n",
       "<table border=\"1\" class=\"dataframe\">\n",
       "  <thead>\n",
       "    <tr style=\"text-align: right;\">\n",
       "      <th></th>\n",
       "      <th>User_ID</th>\n",
       "      <th>Occupation</th>\n",
       "      <th>Marital_Status</th>\n",
       "      <th>Product_Category_1</th>\n",
       "      <th>Product_Category_2</th>\n",
       "      <th>Product_Category_3</th>\n",
       "      <th>Purchase</th>\n",
       "    </tr>\n",
       "  </thead>\n",
       "  <tbody>\n",
       "    <tr>\n",
       "      <th>count</th>\n",
       "      <td>5.500680e+05</td>\n",
       "      <td>550068.000000</td>\n",
       "      <td>550068.000000</td>\n",
       "      <td>550068.000000</td>\n",
       "      <td>376430.000000</td>\n",
       "      <td>166821.000000</td>\n",
       "      <td>550068.000000</td>\n",
       "    </tr>\n",
       "    <tr>\n",
       "      <th>mean</th>\n",
       "      <td>1.003029e+06</td>\n",
       "      <td>8.076707</td>\n",
       "      <td>0.409653</td>\n",
       "      <td>5.404270</td>\n",
       "      <td>9.842329</td>\n",
       "      <td>12.668243</td>\n",
       "      <td>9263.968713</td>\n",
       "    </tr>\n",
       "    <tr>\n",
       "      <th>std</th>\n",
       "      <td>1.727592e+03</td>\n",
       "      <td>6.522660</td>\n",
       "      <td>0.491770</td>\n",
       "      <td>3.936211</td>\n",
       "      <td>5.086590</td>\n",
       "      <td>4.125338</td>\n",
       "      <td>5023.065394</td>\n",
       "    </tr>\n",
       "    <tr>\n",
       "      <th>min</th>\n",
       "      <td>1.000001e+06</td>\n",
       "      <td>0.000000</td>\n",
       "      <td>0.000000</td>\n",
       "      <td>1.000000</td>\n",
       "      <td>2.000000</td>\n",
       "      <td>3.000000</td>\n",
       "      <td>12.000000</td>\n",
       "    </tr>\n",
       "    <tr>\n",
       "      <th>25%</th>\n",
       "      <td>1.001516e+06</td>\n",
       "      <td>2.000000</td>\n",
       "      <td>0.000000</td>\n",
       "      <td>1.000000</td>\n",
       "      <td>5.000000</td>\n",
       "      <td>9.000000</td>\n",
       "      <td>5823.000000</td>\n",
       "    </tr>\n",
       "    <tr>\n",
       "      <th>50%</th>\n",
       "      <td>1.003077e+06</td>\n",
       "      <td>7.000000</td>\n",
       "      <td>0.000000</td>\n",
       "      <td>5.000000</td>\n",
       "      <td>9.000000</td>\n",
       "      <td>14.000000</td>\n",
       "      <td>8047.000000</td>\n",
       "    </tr>\n",
       "    <tr>\n",
       "      <th>75%</th>\n",
       "      <td>1.004478e+06</td>\n",
       "      <td>14.000000</td>\n",
       "      <td>1.000000</td>\n",
       "      <td>8.000000</td>\n",
       "      <td>15.000000</td>\n",
       "      <td>16.000000</td>\n",
       "      <td>12054.000000</td>\n",
       "    </tr>\n",
       "    <tr>\n",
       "      <th>max</th>\n",
       "      <td>1.006040e+06</td>\n",
       "      <td>20.000000</td>\n",
       "      <td>1.000000</td>\n",
       "      <td>20.000000</td>\n",
       "      <td>18.000000</td>\n",
       "      <td>18.000000</td>\n",
       "      <td>23961.000000</td>\n",
       "    </tr>\n",
       "  </tbody>\n",
       "</table>\n",
       "</div>"
      ],
      "text/plain": [
       "            User_ID     Occupation  Marital_Status  Product_Category_1  \\\n",
       "count  5.500680e+05  550068.000000   550068.000000       550068.000000   \n",
       "mean   1.003029e+06       8.076707        0.409653            5.404270   \n",
       "std    1.727592e+03       6.522660        0.491770            3.936211   \n",
       "min    1.000001e+06       0.000000        0.000000            1.000000   \n",
       "25%    1.001516e+06       2.000000        0.000000            1.000000   \n",
       "50%    1.003077e+06       7.000000        0.000000            5.000000   \n",
       "75%    1.004478e+06      14.000000        1.000000            8.000000   \n",
       "max    1.006040e+06      20.000000        1.000000           20.000000   \n",
       "\n",
       "       Product_Category_2  Product_Category_3       Purchase  \n",
       "count       376430.000000       166821.000000  550068.000000  \n",
       "mean             9.842329           12.668243    9263.968713  \n",
       "std              5.086590            4.125338    5023.065394  \n",
       "min              2.000000            3.000000      12.000000  \n",
       "25%              5.000000            9.000000    5823.000000  \n",
       "50%              9.000000           14.000000    8047.000000  \n",
       "75%             15.000000           16.000000   12054.000000  \n",
       "max             18.000000           18.000000   23961.000000  "
      ]
     },
     "execution_count": 8,
     "metadata": {},
     "output_type": "execute_result"
    }
   ],
   "source": [
    "train.describe()"
   ]
  },
  {
   "cell_type": "code",
   "execution_count": 9,
   "id": "8c957d68",
   "metadata": {
    "execution": {
     "iopub.execute_input": "2025-06-20T18:34:44.900309Z",
     "iopub.status.busy": "2025-06-20T18:34:44.899982Z",
     "iopub.status.idle": "2025-06-20T18:34:45.046099Z",
     "shell.execute_reply": "2025-06-20T18:34:45.045108Z"
    },
    "papermill": {
     "duration": 0.156321,
     "end_time": "2025-06-20T18:34:45.047569",
     "exception": false,
     "start_time": "2025-06-20T18:34:44.891248",
     "status": "completed"
    },
    "tags": []
   },
   "outputs": [
    {
     "data": {
      "text/plain": [
       "User_ID                            0\n",
       "Product_ID                         0\n",
       "Gender                             0\n",
       "Age                                0\n",
       "Occupation                         0\n",
       "City_Category                      0\n",
       "Stay_In_Current_City_Years         0\n",
       "Marital_Status                     0\n",
       "Product_Category_1                 0\n",
       "Product_Category_2            173638\n",
       "Product_Category_3            383247\n",
       "Purchase                           0\n",
       "dtype: int64"
      ]
     },
     "execution_count": 9,
     "metadata": {},
     "output_type": "execute_result"
    }
   ],
   "source": [
    "train.isnull().sum()"
   ]
  },
  {
   "cell_type": "code",
   "execution_count": 10,
   "id": "1fa0dc6c",
   "metadata": {
    "execution": {
     "iopub.execute_input": "2025-06-20T18:34:45.065007Z",
     "iopub.status.busy": "2025-06-20T18:34:45.064565Z",
     "iopub.status.idle": "2025-06-20T18:34:45.074211Z",
     "shell.execute_reply": "2025-06-20T18:34:45.073399Z"
    },
    "papermill": {
     "duration": 0.019677,
     "end_time": "2025-06-20T18:34:45.075466",
     "exception": false,
     "start_time": "2025-06-20T18:34:45.055789",
     "status": "completed"
    },
    "tags": []
   },
   "outputs": [
    {
     "data": {
      "text/plain": [
       "173638"
      ]
     },
     "execution_count": 10,
     "metadata": {},
     "output_type": "execute_result"
    }
   ],
   "source": [
    "train['Product_Category_2'].isnull().sum()"
   ]
  },
  {
   "cell_type": "markdown",
   "id": "b265f514",
   "metadata": {
    "papermill": {
     "duration": 0.007593,
     "end_time": "2025-06-20T18:34:45.091033",
     "exception": false,
     "start_time": "2025-06-20T18:34:45.083440",
     "status": "completed"
    },
    "tags": []
   },
   "source": [
    "## Problem Statement\n",
    "A retail company “ABC Private Limited” wants to understand the customer purchase behaviour (specifically, purchase amount) against various products of different categories. They have shared purchase summary of various customers for selected high volume products from last month. The data set also contains customer demographics (age, gender, marital status, city_type, stay_in_current_city), product details (product_id and product category) and Total purchase_amount from last month.\n",
    "\n",
    "Now, they want to build a model to predict the purchase amount of customer against various products which will help them to create personalized offer for customers against different products."
   ]
  },
  {
   "cell_type": "code",
   "execution_count": 11,
   "id": "3715ae8c",
   "metadata": {
    "execution": {
     "iopub.execute_input": "2025-06-20T18:34:45.107985Z",
     "iopub.status.busy": "2025-06-20T18:34:45.107648Z",
     "iopub.status.idle": "2025-06-20T18:34:45.137229Z",
     "shell.execute_reply": "2025-06-20T18:34:45.136330Z"
    },
    "papermill": {
     "duration": 0.040072,
     "end_time": "2025-06-20T18:34:45.138891",
     "exception": false,
     "start_time": "2025-06-20T18:34:45.098819",
     "status": "completed"
    },
    "tags": []
   },
   "outputs": [
    {
     "data": {
      "text/plain": [
       "(783667, 12)"
      ]
     },
     "execution_count": 11,
     "metadata": {},
     "output_type": "execute_result"
    }
   ],
   "source": [
    "last=pd.concat([test,train],ignore_index=True)\n",
    "last.shape"
   ]
  },
  {
   "cell_type": "code",
   "execution_count": 12,
   "id": "3d5c5a0e",
   "metadata": {
    "execution": {
     "iopub.execute_input": "2025-06-20T18:34:45.156487Z",
     "iopub.status.busy": "2025-06-20T18:34:45.156181Z",
     "iopub.status.idle": "2025-06-20T18:34:45.371138Z",
     "shell.execute_reply": "2025-06-20T18:34:45.370026Z"
    },
    "papermill": {
     "duration": 0.22553,
     "end_time": "2025-06-20T18:34:45.372726",
     "exception": false,
     "start_time": "2025-06-20T18:34:45.147196",
     "status": "completed"
    },
    "tags": []
   },
   "outputs": [
    {
     "name": "stdout",
     "output_type": "stream",
     "text": [
      "<class 'pandas.core.frame.DataFrame'>\n",
      "RangeIndex: 783667 entries, 0 to 783666\n",
      "Data columns (total 12 columns):\n",
      " #   Column                      Non-Null Count   Dtype  \n",
      "---  ------                      --------------   -----  \n",
      " 0   User_ID                     783667 non-null  int64  \n",
      " 1   Product_ID                  783667 non-null  object \n",
      " 2   Gender                      783667 non-null  object \n",
      " 3   Age                         783667 non-null  object \n",
      " 4   Occupation                  783667 non-null  int64  \n",
      " 5   City_Category               783667 non-null  object \n",
      " 6   Stay_In_Current_City_Years  783667 non-null  object \n",
      " 7   Marital_Status              783667 non-null  int64  \n",
      " 8   Product_Category_1          783667 non-null  int64  \n",
      " 9   Product_Category_2          537685 non-null  float64\n",
      " 10  Product_Category_3          237858 non-null  float64\n",
      " 11  Purchase                    550068 non-null  float64\n",
      "dtypes: float64(3), int64(4), object(5)\n",
      "memory usage: 71.7+ MB\n"
     ]
    }
   ],
   "source": [
    "last.info()"
   ]
  },
  {
   "cell_type": "code",
   "execution_count": 13,
   "id": "72408955",
   "metadata": {
    "execution": {
     "iopub.execute_input": "2025-06-20T18:34:45.390800Z",
     "iopub.status.busy": "2025-06-20T18:34:45.390527Z",
     "iopub.status.idle": "2025-06-20T18:34:45.441407Z",
     "shell.execute_reply": "2025-06-20T18:34:45.440414Z"
    },
    "papermill": {
     "duration": 0.062242,
     "end_time": "2025-06-20T18:34:45.443353",
     "exception": false,
     "start_time": "2025-06-20T18:34:45.381111",
     "status": "completed"
    },
    "tags": []
   },
   "outputs": [],
   "source": [
    "last.drop(['User_ID'],axis=1,inplace=True)\n"
   ]
  },
  {
   "cell_type": "code",
   "execution_count": 14,
   "id": "98719d2a",
   "metadata": {
    "execution": {
     "iopub.execute_input": "2025-06-20T18:34:45.461715Z",
     "iopub.status.busy": "2025-06-20T18:34:45.461420Z",
     "iopub.status.idle": "2025-06-20T18:34:45.473720Z",
     "shell.execute_reply": "2025-06-20T18:34:45.472797Z"
    },
    "papermill": {
     "duration": 0.02298,
     "end_time": "2025-06-20T18:34:45.475184",
     "exception": false,
     "start_time": "2025-06-20T18:34:45.452204",
     "status": "completed"
    },
    "tags": []
   },
   "outputs": [
    {
     "data": {
      "text/html": [
       "<div>\n",
       "<style scoped>\n",
       "    .dataframe tbody tr th:only-of-type {\n",
       "        vertical-align: middle;\n",
       "    }\n",
       "\n",
       "    .dataframe tbody tr th {\n",
       "        vertical-align: top;\n",
       "    }\n",
       "\n",
       "    .dataframe thead th {\n",
       "        text-align: right;\n",
       "    }\n",
       "</style>\n",
       "<table border=\"1\" class=\"dataframe\">\n",
       "  <thead>\n",
       "    <tr style=\"text-align: right;\">\n",
       "      <th></th>\n",
       "      <th>Product_ID</th>\n",
       "      <th>Gender</th>\n",
       "      <th>Age</th>\n",
       "      <th>Occupation</th>\n",
       "      <th>City_Category</th>\n",
       "      <th>Stay_In_Current_City_Years</th>\n",
       "      <th>Marital_Status</th>\n",
       "      <th>Product_Category_1</th>\n",
       "      <th>Product_Category_2</th>\n",
       "      <th>Product_Category_3</th>\n",
       "      <th>Purchase</th>\n",
       "    </tr>\n",
       "  </thead>\n",
       "  <tbody>\n",
       "    <tr>\n",
       "      <th>0</th>\n",
       "      <td>P00128942</td>\n",
       "      <td>M</td>\n",
       "      <td>46-50</td>\n",
       "      <td>7</td>\n",
       "      <td>B</td>\n",
       "      <td>2</td>\n",
       "      <td>1</td>\n",
       "      <td>1</td>\n",
       "      <td>11.0</td>\n",
       "      <td>NaN</td>\n",
       "      <td>NaN</td>\n",
       "    </tr>\n",
       "    <tr>\n",
       "      <th>1</th>\n",
       "      <td>P00113442</td>\n",
       "      <td>M</td>\n",
       "      <td>26-35</td>\n",
       "      <td>17</td>\n",
       "      <td>C</td>\n",
       "      <td>0</td>\n",
       "      <td>0</td>\n",
       "      <td>3</td>\n",
       "      <td>5.0</td>\n",
       "      <td>NaN</td>\n",
       "      <td>NaN</td>\n",
       "    </tr>\n",
       "  </tbody>\n",
       "</table>\n",
       "</div>"
      ],
      "text/plain": [
       "  Product_ID Gender    Age  Occupation City_Category  \\\n",
       "0  P00128942      M  46-50           7             B   \n",
       "1  P00113442      M  26-35          17             C   \n",
       "\n",
       "  Stay_In_Current_City_Years  Marital_Status  Product_Category_1  \\\n",
       "0                          2               1                   1   \n",
       "1                          0               0                   3   \n",
       "\n",
       "   Product_Category_2  Product_Category_3  Purchase  \n",
       "0                11.0                 NaN       NaN  \n",
       "1                 5.0                 NaN       NaN  "
      ]
     },
     "execution_count": 14,
     "metadata": {},
     "output_type": "execute_result"
    }
   ],
   "source": [
    "last.head(2)"
   ]
  },
  {
   "cell_type": "code",
   "execution_count": 15,
   "id": "225dbe2a",
   "metadata": {
    "execution": {
     "iopub.execute_input": "2025-06-20T18:34:45.494336Z",
     "iopub.status.busy": "2025-06-20T18:34:45.493468Z",
     "iopub.status.idle": "2025-06-20T18:34:45.525530Z",
     "shell.execute_reply": "2025-06-20T18:34:45.524611Z"
    },
    "papermill": {
     "duration": 0.043436,
     "end_time": "2025-06-20T18:34:45.527096",
     "exception": false,
     "start_time": "2025-06-20T18:34:45.483660",
     "status": "completed"
    },
    "tags": []
   },
   "outputs": [],
   "source": [
    "last['Gender']=last['Gender'].map({'F':0,'M':1})\n",
    "\n"
   ]
  },
  {
   "cell_type": "code",
   "execution_count": 16,
   "id": "68722c71",
   "metadata": {
    "execution": {
     "iopub.execute_input": "2025-06-20T18:34:45.606493Z",
     "iopub.status.busy": "2025-06-20T18:34:45.606160Z",
     "iopub.status.idle": "2025-06-20T18:34:45.610805Z",
     "shell.execute_reply": "2025-06-20T18:34:45.610041Z"
    },
    "papermill": {
     "duration": 0.015543,
     "end_time": "2025-06-20T18:34:45.612267",
     "exception": false,
     "start_time": "2025-06-20T18:34:45.596724",
     "status": "completed"
    },
    "tags": []
   },
   "outputs": [],
   "source": [
    "last.rename(columns={'Gender':'Gender M1 F0'},inplace=True)"
   ]
  },
  {
   "cell_type": "code",
   "execution_count": 17,
   "id": "fb8a7c89",
   "metadata": {
    "execution": {
     "iopub.execute_input": "2025-06-20T18:34:45.631275Z",
     "iopub.status.busy": "2025-06-20T18:34:45.630932Z",
     "iopub.status.idle": "2025-06-20T18:34:45.647075Z",
     "shell.execute_reply": "2025-06-20T18:34:45.646048Z"
    },
    "papermill": {
     "duration": 0.027097,
     "end_time": "2025-06-20T18:34:45.648722",
     "exception": false,
     "start_time": "2025-06-20T18:34:45.621625",
     "status": "completed"
    },
    "tags": []
   },
   "outputs": [
    {
     "data": {
      "text/html": [
       "<div>\n",
       "<style scoped>\n",
       "    .dataframe tbody tr th:only-of-type {\n",
       "        vertical-align: middle;\n",
       "    }\n",
       "\n",
       "    .dataframe tbody tr th {\n",
       "        vertical-align: top;\n",
       "    }\n",
       "\n",
       "    .dataframe thead th {\n",
       "        text-align: right;\n",
       "    }\n",
       "</style>\n",
       "<table border=\"1\" class=\"dataframe\">\n",
       "  <thead>\n",
       "    <tr style=\"text-align: right;\">\n",
       "      <th></th>\n",
       "      <th>Product_ID</th>\n",
       "      <th>Gender M1 F0</th>\n",
       "      <th>Age</th>\n",
       "      <th>Occupation</th>\n",
       "      <th>City_Category</th>\n",
       "      <th>Stay_In_Current_City_Years</th>\n",
       "      <th>Marital_Status</th>\n",
       "      <th>Product_Category_1</th>\n",
       "      <th>Product_Category_2</th>\n",
       "      <th>Product_Category_3</th>\n",
       "      <th>Purchase</th>\n",
       "    </tr>\n",
       "  </thead>\n",
       "  <tbody>\n",
       "    <tr>\n",
       "      <th>0</th>\n",
       "      <td>P00128942</td>\n",
       "      <td>1</td>\n",
       "      <td>46-50</td>\n",
       "      <td>7</td>\n",
       "      <td>B</td>\n",
       "      <td>2</td>\n",
       "      <td>1</td>\n",
       "      <td>1</td>\n",
       "      <td>11.0</td>\n",
       "      <td>NaN</td>\n",
       "      <td>NaN</td>\n",
       "    </tr>\n",
       "    <tr>\n",
       "      <th>1</th>\n",
       "      <td>P00113442</td>\n",
       "      <td>1</td>\n",
       "      <td>26-35</td>\n",
       "      <td>17</td>\n",
       "      <td>C</td>\n",
       "      <td>0</td>\n",
       "      <td>0</td>\n",
       "      <td>3</td>\n",
       "      <td>5.0</td>\n",
       "      <td>NaN</td>\n",
       "      <td>NaN</td>\n",
       "    </tr>\n",
       "    <tr>\n",
       "      <th>2</th>\n",
       "      <td>P00288442</td>\n",
       "      <td>0</td>\n",
       "      <td>36-45</td>\n",
       "      <td>1</td>\n",
       "      <td>B</td>\n",
       "      <td>4+</td>\n",
       "      <td>1</td>\n",
       "      <td>5</td>\n",
       "      <td>14.0</td>\n",
       "      <td>NaN</td>\n",
       "      <td>NaN</td>\n",
       "    </tr>\n",
       "    <tr>\n",
       "      <th>3</th>\n",
       "      <td>P00145342</td>\n",
       "      <td>0</td>\n",
       "      <td>36-45</td>\n",
       "      <td>1</td>\n",
       "      <td>B</td>\n",
       "      <td>4+</td>\n",
       "      <td>1</td>\n",
       "      <td>4</td>\n",
       "      <td>9.0</td>\n",
       "      <td>NaN</td>\n",
       "      <td>NaN</td>\n",
       "    </tr>\n",
       "    <tr>\n",
       "      <th>4</th>\n",
       "      <td>P00053842</td>\n",
       "      <td>0</td>\n",
       "      <td>26-35</td>\n",
       "      <td>1</td>\n",
       "      <td>C</td>\n",
       "      <td>1</td>\n",
       "      <td>0</td>\n",
       "      <td>4</td>\n",
       "      <td>5.0</td>\n",
       "      <td>12.0</td>\n",
       "      <td>NaN</td>\n",
       "    </tr>\n",
       "    <tr>\n",
       "      <th>5</th>\n",
       "      <td>P00350442</td>\n",
       "      <td>1</td>\n",
       "      <td>46-50</td>\n",
       "      <td>1</td>\n",
       "      <td>C</td>\n",
       "      <td>3</td>\n",
       "      <td>1</td>\n",
       "      <td>2</td>\n",
       "      <td>3.0</td>\n",
       "      <td>15.0</td>\n",
       "      <td>NaN</td>\n",
       "    </tr>\n",
       "    <tr>\n",
       "      <th>6</th>\n",
       "      <td>P00155442</td>\n",
       "      <td>1</td>\n",
       "      <td>46-50</td>\n",
       "      <td>1</td>\n",
       "      <td>C</td>\n",
       "      <td>3</td>\n",
       "      <td>1</td>\n",
       "      <td>1</td>\n",
       "      <td>11.0</td>\n",
       "      <td>15.0</td>\n",
       "      <td>NaN</td>\n",
       "    </tr>\n",
       "    <tr>\n",
       "      <th>7</th>\n",
       "      <td>P0094542</td>\n",
       "      <td>1</td>\n",
       "      <td>46-50</td>\n",
       "      <td>1</td>\n",
       "      <td>C</td>\n",
       "      <td>3</td>\n",
       "      <td>1</td>\n",
       "      <td>2</td>\n",
       "      <td>4.0</td>\n",
       "      <td>9.0</td>\n",
       "      <td>NaN</td>\n",
       "    </tr>\n",
       "    <tr>\n",
       "      <th>8</th>\n",
       "      <td>P00161842</td>\n",
       "      <td>1</td>\n",
       "      <td>26-35</td>\n",
       "      <td>7</td>\n",
       "      <td>A</td>\n",
       "      <td>1</td>\n",
       "      <td>0</td>\n",
       "      <td>10</td>\n",
       "      <td>13.0</td>\n",
       "      <td>16.0</td>\n",
       "      <td>NaN</td>\n",
       "    </tr>\n",
       "    <tr>\n",
       "      <th>9</th>\n",
       "      <td>P00067942</td>\n",
       "      <td>1</td>\n",
       "      <td>18-25</td>\n",
       "      <td>15</td>\n",
       "      <td>A</td>\n",
       "      <td>4+</td>\n",
       "      <td>0</td>\n",
       "      <td>5</td>\n",
       "      <td>14.0</td>\n",
       "      <td>NaN</td>\n",
       "      <td>NaN</td>\n",
       "    </tr>\n",
       "    <tr>\n",
       "      <th>10</th>\n",
       "      <td>P00046742</td>\n",
       "      <td>1</td>\n",
       "      <td>26-35</td>\n",
       "      <td>7</td>\n",
       "      <td>B</td>\n",
       "      <td>2</td>\n",
       "      <td>1</td>\n",
       "      <td>1</td>\n",
       "      <td>2.0</td>\n",
       "      <td>15.0</td>\n",
       "      <td>NaN</td>\n",
       "    </tr>\n",
       "    <tr>\n",
       "      <th>11</th>\n",
       "      <td>P00040042</td>\n",
       "      <td>1</td>\n",
       "      <td>26-35</td>\n",
       "      <td>7</td>\n",
       "      <td>B</td>\n",
       "      <td>2</td>\n",
       "      <td>1</td>\n",
       "      <td>5</td>\n",
       "      <td>NaN</td>\n",
       "      <td>NaN</td>\n",
       "      <td>NaN</td>\n",
       "    </tr>\n",
       "    <tr>\n",
       "      <th>12</th>\n",
       "      <td>P00196542</td>\n",
       "      <td>1</td>\n",
       "      <td>26-35</td>\n",
       "      <td>7</td>\n",
       "      <td>B</td>\n",
       "      <td>2</td>\n",
       "      <td>1</td>\n",
       "      <td>5</td>\n",
       "      <td>8.0</td>\n",
       "      <td>14.0</td>\n",
       "      <td>NaN</td>\n",
       "    </tr>\n",
       "    <tr>\n",
       "      <th>13</th>\n",
       "      <td>P00004542</td>\n",
       "      <td>1</td>\n",
       "      <td>26-35</td>\n",
       "      <td>7</td>\n",
       "      <td>B</td>\n",
       "      <td>2</td>\n",
       "      <td>1</td>\n",
       "      <td>5</td>\n",
       "      <td>8.0</td>\n",
       "      <td>NaN</td>\n",
       "      <td>NaN</td>\n",
       "    </tr>\n",
       "    <tr>\n",
       "      <th>14</th>\n",
       "      <td>P00159542</td>\n",
       "      <td>0</td>\n",
       "      <td>26-35</td>\n",
       "      <td>1</td>\n",
       "      <td>C</td>\n",
       "      <td>2</td>\n",
       "      <td>1</td>\n",
       "      <td>10</td>\n",
       "      <td>15.0</td>\n",
       "      <td>16.0</td>\n",
       "      <td>NaN</td>\n",
       "    </tr>\n",
       "    <tr>\n",
       "      <th>15</th>\n",
       "      <td>P00111542</td>\n",
       "      <td>1</td>\n",
       "      <td>36-45</td>\n",
       "      <td>7</td>\n",
       "      <td>C</td>\n",
       "      <td>1</td>\n",
       "      <td>0</td>\n",
       "      <td>2</td>\n",
       "      <td>17.0</td>\n",
       "      <td>NaN</td>\n",
       "      <td>NaN</td>\n",
       "    </tr>\n",
       "    <tr>\n",
       "      <th>16</th>\n",
       "      <td>P00121042</td>\n",
       "      <td>1</td>\n",
       "      <td>46-50</td>\n",
       "      <td>3</td>\n",
       "      <td>A</td>\n",
       "      <td>1</td>\n",
       "      <td>1</td>\n",
       "      <td>15</td>\n",
       "      <td>NaN</td>\n",
       "      <td>NaN</td>\n",
       "      <td>NaN</td>\n",
       "    </tr>\n",
       "    <tr>\n",
       "      <th>17</th>\n",
       "      <td>P00344442</td>\n",
       "      <td>1</td>\n",
       "      <td>46-50</td>\n",
       "      <td>3</td>\n",
       "      <td>A</td>\n",
       "      <td>1</td>\n",
       "      <td>1</td>\n",
       "      <td>5</td>\n",
       "      <td>8.0</td>\n",
       "      <td>14.0</td>\n",
       "      <td>NaN</td>\n",
       "    </tr>\n",
       "    <tr>\n",
       "      <th>18</th>\n",
       "      <td>P00265242</td>\n",
       "      <td>0</td>\n",
       "      <td>18-25</td>\n",
       "      <td>0</td>\n",
       "      <td>A</td>\n",
       "      <td>0</td>\n",
       "      <td>0</td>\n",
       "      <td>5</td>\n",
       "      <td>8.0</td>\n",
       "      <td>NaN</td>\n",
       "      <td>NaN</td>\n",
       "    </tr>\n",
       "    <tr>\n",
       "      <th>19</th>\n",
       "      <td>P0096642</td>\n",
       "      <td>1</td>\n",
       "      <td>46-50</td>\n",
       "      <td>1</td>\n",
       "      <td>C</td>\n",
       "      <td>4+</td>\n",
       "      <td>1</td>\n",
       "      <td>2</td>\n",
       "      <td>3.0</td>\n",
       "      <td>4.0</td>\n",
       "      <td>NaN</td>\n",
       "    </tr>\n",
       "  </tbody>\n",
       "</table>\n",
       "</div>"
      ],
      "text/plain": [
       "   Product_ID  Gender M1 F0    Age  Occupation City_Category  \\\n",
       "0   P00128942             1  46-50           7             B   \n",
       "1   P00113442             1  26-35          17             C   \n",
       "2   P00288442             0  36-45           1             B   \n",
       "3   P00145342             0  36-45           1             B   \n",
       "4   P00053842             0  26-35           1             C   \n",
       "5   P00350442             1  46-50           1             C   \n",
       "6   P00155442             1  46-50           1             C   \n",
       "7    P0094542             1  46-50           1             C   \n",
       "8   P00161842             1  26-35           7             A   \n",
       "9   P00067942             1  18-25          15             A   \n",
       "10  P00046742             1  26-35           7             B   \n",
       "11  P00040042             1  26-35           7             B   \n",
       "12  P00196542             1  26-35           7             B   \n",
       "13  P00004542             1  26-35           7             B   \n",
       "14  P00159542             0  26-35           1             C   \n",
       "15  P00111542             1  36-45           7             C   \n",
       "16  P00121042             1  46-50           3             A   \n",
       "17  P00344442             1  46-50           3             A   \n",
       "18  P00265242             0  18-25           0             A   \n",
       "19   P0096642             1  46-50           1             C   \n",
       "\n",
       "   Stay_In_Current_City_Years  Marital_Status  Product_Category_1  \\\n",
       "0                           2               1                   1   \n",
       "1                           0               0                   3   \n",
       "2                          4+               1                   5   \n",
       "3                          4+               1                   4   \n",
       "4                           1               0                   4   \n",
       "5                           3               1                   2   \n",
       "6                           3               1                   1   \n",
       "7                           3               1                   2   \n",
       "8                           1               0                  10   \n",
       "9                          4+               0                   5   \n",
       "10                          2               1                   1   \n",
       "11                          2               1                   5   \n",
       "12                          2               1                   5   \n",
       "13                          2               1                   5   \n",
       "14                          2               1                  10   \n",
       "15                          1               0                   2   \n",
       "16                          1               1                  15   \n",
       "17                          1               1                   5   \n",
       "18                          0               0                   5   \n",
       "19                         4+               1                   2   \n",
       "\n",
       "    Product_Category_2  Product_Category_3  Purchase  \n",
       "0                 11.0                 NaN       NaN  \n",
       "1                  5.0                 NaN       NaN  \n",
       "2                 14.0                 NaN       NaN  \n",
       "3                  9.0                 NaN       NaN  \n",
       "4                  5.0                12.0       NaN  \n",
       "5                  3.0                15.0       NaN  \n",
       "6                 11.0                15.0       NaN  \n",
       "7                  4.0                 9.0       NaN  \n",
       "8                 13.0                16.0       NaN  \n",
       "9                 14.0                 NaN       NaN  \n",
       "10                 2.0                15.0       NaN  \n",
       "11                 NaN                 NaN       NaN  \n",
       "12                 8.0                14.0       NaN  \n",
       "13                 8.0                 NaN       NaN  \n",
       "14                15.0                16.0       NaN  \n",
       "15                17.0                 NaN       NaN  \n",
       "16                 NaN                 NaN       NaN  \n",
       "17                 8.0                14.0       NaN  \n",
       "18                 8.0                 NaN       NaN  \n",
       "19                 3.0                 4.0       NaN  "
      ]
     },
     "execution_count": 17,
     "metadata": {},
     "output_type": "execute_result"
    }
   ],
   "source": [
    "last.head(20)"
   ]
  },
  {
   "cell_type": "code",
   "execution_count": 18,
   "id": "0b6b668a",
   "metadata": {
    "execution": {
     "iopub.execute_input": "2025-06-20T18:34:45.667881Z",
     "iopub.status.busy": "2025-06-20T18:34:45.667568Z",
     "iopub.status.idle": "2025-06-20T18:34:45.729313Z",
     "shell.execute_reply": "2025-06-20T18:34:45.728394Z"
    },
    "papermill": {
     "duration": 0.072934,
     "end_time": "2025-06-20T18:34:45.730790",
     "exception": false,
     "start_time": "2025-06-20T18:34:45.657856",
     "status": "completed"
    },
    "tags": []
   },
   "outputs": [
    {
     "data": {
      "text/plain": [
       "Age\n",
       "26-35    313015\n",
       "36-45    156724\n",
       "18-25    141953\n",
       "46-50     65278\n",
       "51-55     54784\n",
       "55+       30579\n",
       "0-17      21334\n",
       "Name: count, dtype: int64"
      ]
     },
     "execution_count": 18,
     "metadata": {},
     "output_type": "execute_result"
    }
   ],
   "source": [
    "last['Age'].value_counts()\n"
   ]
  },
  {
   "cell_type": "code",
   "execution_count": 19,
   "id": "63f50e0f",
   "metadata": {
    "execution": {
     "iopub.execute_input": "2025-06-20T18:34:45.752935Z",
     "iopub.status.busy": "2025-06-20T18:34:45.752607Z",
     "iopub.status.idle": "2025-06-20T18:34:45.830857Z",
     "shell.execute_reply": "2025-06-20T18:34:45.829987Z"
    },
    "papermill": {
     "duration": 0.090261,
     "end_time": "2025-06-20T18:34:45.832484",
     "exception": false,
     "start_time": "2025-06-20T18:34:45.742223",
     "status": "completed"
    },
    "scrolled": true,
    "tags": []
   },
   "outputs": [],
   "source": [
    "last['Age']=last['Age'].replace({'55+': '55-80'})\n"
   ]
  },
  {
   "cell_type": "code",
   "execution_count": 20,
   "id": "252d539c",
   "metadata": {
    "execution": {
     "iopub.execute_input": "2025-06-20T18:34:45.851550Z",
     "iopub.status.busy": "2025-06-20T18:34:45.851230Z",
     "iopub.status.idle": "2025-06-20T18:34:45.912536Z",
     "shell.execute_reply": "2025-06-20T18:34:45.911857Z"
    },
    "papermill": {
     "duration": 0.072432,
     "end_time": "2025-06-20T18:34:45.913772",
     "exception": false,
     "start_time": "2025-06-20T18:34:45.841340",
     "status": "completed"
    },
    "tags": []
   },
   "outputs": [
    {
     "data": {
      "text/plain": [
       "Age\n",
       "26-35    313015\n",
       "36-45    156724\n",
       "18-25    141953\n",
       "46-50     65278\n",
       "51-55     54784\n",
       "55-80     30579\n",
       "0-17      21334\n",
       "Name: count, dtype: int64"
      ]
     },
     "execution_count": 20,
     "metadata": {},
     "output_type": "execute_result"
    }
   ],
   "source": [
    "last['Age'].value_counts()"
   ]
  },
  {
   "cell_type": "code",
   "execution_count": 21,
   "id": "e347bd0d",
   "metadata": {
    "execution": {
     "iopub.execute_input": "2025-06-20T18:34:45.932985Z",
     "iopub.status.busy": "2025-06-20T18:34:45.932650Z",
     "iopub.status.idle": "2025-06-20T18:34:47.957204Z",
     "shell.execute_reply": "2025-06-20T18:34:47.956348Z"
    },
    "papermill": {
     "duration": 2.035943,
     "end_time": "2025-06-20T18:34:47.958801",
     "exception": false,
     "start_time": "2025-06-20T18:34:45.922858",
     "status": "completed"
    },
    "tags": []
   },
   "outputs": [],
   "source": [
    "last[['min_age', 'max_age']] = last['Age'].str.split('-', expand=True).astype(int)\n"
   ]
  },
  {
   "cell_type": "code",
   "execution_count": 22,
   "id": "c805e7cb",
   "metadata": {
    "execution": {
     "iopub.execute_input": "2025-06-20T18:34:47.979366Z",
     "iopub.status.busy": "2025-06-20T18:34:47.979072Z",
     "iopub.status.idle": "2025-06-20T18:34:48.023648Z",
     "shell.execute_reply": "2025-06-20T18:34:48.022877Z"
    },
    "papermill": {
     "duration": 0.057309,
     "end_time": "2025-06-20T18:34:48.025264",
     "exception": false,
     "start_time": "2025-06-20T18:34:47.967955",
     "status": "completed"
    },
    "tags": []
   },
   "outputs": [],
   "source": [
    "last.drop('Age',axis=1,inplace=True)"
   ]
  },
  {
   "cell_type": "code",
   "execution_count": 23,
   "id": "e907260b",
   "metadata": {
    "execution": {
     "iopub.execute_input": "2025-06-20T18:34:48.044259Z",
     "iopub.status.busy": "2025-06-20T18:34:48.043944Z",
     "iopub.status.idle": "2025-06-20T18:34:48.049786Z",
     "shell.execute_reply": "2025-06-20T18:34:48.048790Z"
    },
    "papermill": {
     "duration": 0.016971,
     "end_time": "2025-06-20T18:34:48.051132",
     "exception": false,
     "start_time": "2025-06-20T18:34:48.034161",
     "status": "completed"
    },
    "tags": []
   },
   "outputs": [
    {
     "data": {
      "text/plain": [
       "Index(['Product_ID', 'Gender M1 F0', 'Occupation', 'City_Category',\n",
       "       'Stay_In_Current_City_Years', 'Marital_Status', 'Product_Category_1',\n",
       "       'Product_Category_2', 'Product_Category_3', 'Purchase', 'min_age',\n",
       "       'max_age'],\n",
       "      dtype='object')"
      ]
     },
     "execution_count": 23,
     "metadata": {},
     "output_type": "execute_result"
    }
   ],
   "source": [
    "last.columns"
   ]
  },
  {
   "cell_type": "code",
   "execution_count": 24,
   "id": "1c62da1a",
   "metadata": {
    "execution": {
     "iopub.execute_input": "2025-06-20T18:34:48.070597Z",
     "iopub.status.busy": "2025-06-20T18:34:48.069871Z",
     "iopub.status.idle": "2025-06-20T18:34:48.129816Z",
     "shell.execute_reply": "2025-06-20T18:34:48.128982Z"
    },
    "papermill": {
     "duration": 0.071538,
     "end_time": "2025-06-20T18:34:48.131618",
     "exception": false,
     "start_time": "2025-06-20T18:34:48.060080",
     "status": "completed"
    },
    "tags": []
   },
   "outputs": [],
   "source": [
    "last=last[['Product_ID','min_age','max_age','Gender M1 F0','Occupation','City_Category','Stay_In_Current_City_Years','Marital_Status','Product_Category_1','Product_Category_2', 'Product_Category_3', 'Purchase']]"
   ]
  },
  {
   "cell_type": "code",
   "execution_count": 25,
   "id": "173aeeca",
   "metadata": {
    "execution": {
     "iopub.execute_input": "2025-06-20T18:34:48.150917Z",
     "iopub.status.busy": "2025-06-20T18:34:48.150582Z",
     "iopub.status.idle": "2025-06-20T18:34:48.162996Z",
     "shell.execute_reply": "2025-06-20T18:34:48.162190Z"
    },
    "papermill": {
     "duration": 0.023776,
     "end_time": "2025-06-20T18:34:48.164509",
     "exception": false,
     "start_time": "2025-06-20T18:34:48.140733",
     "status": "completed"
    },
    "scrolled": true,
    "tags": []
   },
   "outputs": [
    {
     "data": {
      "text/html": [
       "<div>\n",
       "<style scoped>\n",
       "    .dataframe tbody tr th:only-of-type {\n",
       "        vertical-align: middle;\n",
       "    }\n",
       "\n",
       "    .dataframe tbody tr th {\n",
       "        vertical-align: top;\n",
       "    }\n",
       "\n",
       "    .dataframe thead th {\n",
       "        text-align: right;\n",
       "    }\n",
       "</style>\n",
       "<table border=\"1\" class=\"dataframe\">\n",
       "  <thead>\n",
       "    <tr style=\"text-align: right;\">\n",
       "      <th></th>\n",
       "      <th>Product_ID</th>\n",
       "      <th>min_age</th>\n",
       "      <th>max_age</th>\n",
       "      <th>Gender M1 F0</th>\n",
       "      <th>Occupation</th>\n",
       "      <th>City_Category</th>\n",
       "      <th>Stay_In_Current_City_Years</th>\n",
       "      <th>Marital_Status</th>\n",
       "      <th>Product_Category_1</th>\n",
       "      <th>Product_Category_2</th>\n",
       "      <th>Product_Category_3</th>\n",
       "      <th>Purchase</th>\n",
       "    </tr>\n",
       "  </thead>\n",
       "  <tbody>\n",
       "    <tr>\n",
       "      <th>0</th>\n",
       "      <td>P00128942</td>\n",
       "      <td>46</td>\n",
       "      <td>50</td>\n",
       "      <td>1</td>\n",
       "      <td>7</td>\n",
       "      <td>B</td>\n",
       "      <td>2</td>\n",
       "      <td>1</td>\n",
       "      <td>1</td>\n",
       "      <td>11.0</td>\n",
       "      <td>NaN</td>\n",
       "      <td>NaN</td>\n",
       "    </tr>\n",
       "    <tr>\n",
       "      <th>1</th>\n",
       "      <td>P00113442</td>\n",
       "      <td>26</td>\n",
       "      <td>35</td>\n",
       "      <td>1</td>\n",
       "      <td>17</td>\n",
       "      <td>C</td>\n",
       "      <td>0</td>\n",
       "      <td>0</td>\n",
       "      <td>3</td>\n",
       "      <td>5.0</td>\n",
       "      <td>NaN</td>\n",
       "      <td>NaN</td>\n",
       "    </tr>\n",
       "    <tr>\n",
       "      <th>2</th>\n",
       "      <td>P00288442</td>\n",
       "      <td>36</td>\n",
       "      <td>45</td>\n",
       "      <td>0</td>\n",
       "      <td>1</td>\n",
       "      <td>B</td>\n",
       "      <td>4+</td>\n",
       "      <td>1</td>\n",
       "      <td>5</td>\n",
       "      <td>14.0</td>\n",
       "      <td>NaN</td>\n",
       "      <td>NaN</td>\n",
       "    </tr>\n",
       "    <tr>\n",
       "      <th>3</th>\n",
       "      <td>P00145342</td>\n",
       "      <td>36</td>\n",
       "      <td>45</td>\n",
       "      <td>0</td>\n",
       "      <td>1</td>\n",
       "      <td>B</td>\n",
       "      <td>4+</td>\n",
       "      <td>1</td>\n",
       "      <td>4</td>\n",
       "      <td>9.0</td>\n",
       "      <td>NaN</td>\n",
       "      <td>NaN</td>\n",
       "    </tr>\n",
       "    <tr>\n",
       "      <th>4</th>\n",
       "      <td>P00053842</td>\n",
       "      <td>26</td>\n",
       "      <td>35</td>\n",
       "      <td>0</td>\n",
       "      <td>1</td>\n",
       "      <td>C</td>\n",
       "      <td>1</td>\n",
       "      <td>0</td>\n",
       "      <td>4</td>\n",
       "      <td>5.0</td>\n",
       "      <td>12.0</td>\n",
       "      <td>NaN</td>\n",
       "    </tr>\n",
       "  </tbody>\n",
       "</table>\n",
       "</div>"
      ],
      "text/plain": [
       "  Product_ID  min_age  max_age  Gender M1 F0  Occupation City_Category  \\\n",
       "0  P00128942       46       50             1           7             B   \n",
       "1  P00113442       26       35             1          17             C   \n",
       "2  P00288442       36       45             0           1             B   \n",
       "3  P00145342       36       45             0           1             B   \n",
       "4  P00053842       26       35             0           1             C   \n",
       "\n",
       "  Stay_In_Current_City_Years  Marital_Status  Product_Category_1  \\\n",
       "0                          2               1                   1   \n",
       "1                          0               0                   3   \n",
       "2                         4+               1                   5   \n",
       "3                         4+               1                   4   \n",
       "4                          1               0                   4   \n",
       "\n",
       "   Product_Category_2  Product_Category_3  Purchase  \n",
       "0                11.0                 NaN       NaN  \n",
       "1                 5.0                 NaN       NaN  \n",
       "2                14.0                 NaN       NaN  \n",
       "3                 9.0                 NaN       NaN  \n",
       "4                 5.0                12.0       NaN  "
      ]
     },
     "execution_count": 25,
     "metadata": {},
     "output_type": "execute_result"
    }
   ],
   "source": [
    "last.head()"
   ]
  },
  {
   "cell_type": "code",
   "execution_count": 26,
   "id": "66ecc3e3",
   "metadata": {
    "execution": {
     "iopub.execute_input": "2025-06-20T18:34:48.184477Z",
     "iopub.status.busy": "2025-06-20T18:34:48.184179Z",
     "iopub.status.idle": "2025-06-20T18:34:48.219706Z",
     "shell.execute_reply": "2025-06-20T18:34:48.218734Z"
    },
    "papermill": {
     "duration": 0.046971,
     "end_time": "2025-06-20T18:34:48.221224",
     "exception": false,
     "start_time": "2025-06-20T18:34:48.174253",
     "status": "completed"
    },
    "tags": []
   },
   "outputs": [
    {
     "data": {
      "text/plain": [
       "array(['B', 'C', 'A'], dtype=object)"
      ]
     },
     "execution_count": 26,
     "metadata": {},
     "output_type": "execute_result"
    }
   ],
   "source": [
    "last['City_Category'].unique()"
   ]
  },
  {
   "cell_type": "code",
   "execution_count": 27,
   "id": "9916a6ec",
   "metadata": {
    "execution": {
     "iopub.execute_input": "2025-06-20T18:34:48.240981Z",
     "iopub.status.busy": "2025-06-20T18:34:48.240644Z",
     "iopub.status.idle": "2025-06-20T18:34:48.291850Z",
     "shell.execute_reply": "2025-06-20T18:34:48.290639Z"
    },
    "papermill": {
     "duration": 0.062937,
     "end_time": "2025-06-20T18:34:48.293623",
     "exception": false,
     "start_time": "2025-06-20T18:34:48.230686",
     "status": "completed"
    },
    "tags": []
   },
   "outputs": [],
   "source": [
    "last['City_Category']=last['City_Category'].map({'A':1,'B':2,'C':3})"
   ]
  },
  {
   "cell_type": "code",
   "execution_count": 28,
   "id": "a2317d38",
   "metadata": {
    "execution": {
     "iopub.execute_input": "2025-06-20T18:34:48.313405Z",
     "iopub.status.busy": "2025-06-20T18:34:48.313122Z",
     "iopub.status.idle": "2025-06-20T18:34:48.325587Z",
     "shell.execute_reply": "2025-06-20T18:34:48.324740Z"
    },
    "papermill": {
     "duration": 0.024113,
     "end_time": "2025-06-20T18:34:48.327118",
     "exception": false,
     "start_time": "2025-06-20T18:34:48.303005",
     "status": "completed"
    },
    "tags": []
   },
   "outputs": [
    {
     "data": {
      "text/html": [
       "<div>\n",
       "<style scoped>\n",
       "    .dataframe tbody tr th:only-of-type {\n",
       "        vertical-align: middle;\n",
       "    }\n",
       "\n",
       "    .dataframe tbody tr th {\n",
       "        vertical-align: top;\n",
       "    }\n",
       "\n",
       "    .dataframe thead th {\n",
       "        text-align: right;\n",
       "    }\n",
       "</style>\n",
       "<table border=\"1\" class=\"dataframe\">\n",
       "  <thead>\n",
       "    <tr style=\"text-align: right;\">\n",
       "      <th></th>\n",
       "      <th>Product_ID</th>\n",
       "      <th>min_age</th>\n",
       "      <th>max_age</th>\n",
       "      <th>Gender M1 F0</th>\n",
       "      <th>Occupation</th>\n",
       "      <th>City_Category</th>\n",
       "      <th>Stay_In_Current_City_Years</th>\n",
       "      <th>Marital_Status</th>\n",
       "      <th>Product_Category_1</th>\n",
       "      <th>Product_Category_2</th>\n",
       "      <th>Product_Category_3</th>\n",
       "      <th>Purchase</th>\n",
       "    </tr>\n",
       "  </thead>\n",
       "  <tbody>\n",
       "    <tr>\n",
       "      <th>0</th>\n",
       "      <td>P00128942</td>\n",
       "      <td>46</td>\n",
       "      <td>50</td>\n",
       "      <td>1</td>\n",
       "      <td>7</td>\n",
       "      <td>2</td>\n",
       "      <td>2</td>\n",
       "      <td>1</td>\n",
       "      <td>1</td>\n",
       "      <td>11.0</td>\n",
       "      <td>NaN</td>\n",
       "      <td>NaN</td>\n",
       "    </tr>\n",
       "    <tr>\n",
       "      <th>1</th>\n",
       "      <td>P00113442</td>\n",
       "      <td>26</td>\n",
       "      <td>35</td>\n",
       "      <td>1</td>\n",
       "      <td>17</td>\n",
       "      <td>3</td>\n",
       "      <td>0</td>\n",
       "      <td>0</td>\n",
       "      <td>3</td>\n",
       "      <td>5.0</td>\n",
       "      <td>NaN</td>\n",
       "      <td>NaN</td>\n",
       "    </tr>\n",
       "    <tr>\n",
       "      <th>2</th>\n",
       "      <td>P00288442</td>\n",
       "      <td>36</td>\n",
       "      <td>45</td>\n",
       "      <td>0</td>\n",
       "      <td>1</td>\n",
       "      <td>2</td>\n",
       "      <td>4+</td>\n",
       "      <td>1</td>\n",
       "      <td>5</td>\n",
       "      <td>14.0</td>\n",
       "      <td>NaN</td>\n",
       "      <td>NaN</td>\n",
       "    </tr>\n",
       "    <tr>\n",
       "      <th>3</th>\n",
       "      <td>P00145342</td>\n",
       "      <td>36</td>\n",
       "      <td>45</td>\n",
       "      <td>0</td>\n",
       "      <td>1</td>\n",
       "      <td>2</td>\n",
       "      <td>4+</td>\n",
       "      <td>1</td>\n",
       "      <td>4</td>\n",
       "      <td>9.0</td>\n",
       "      <td>NaN</td>\n",
       "      <td>NaN</td>\n",
       "    </tr>\n",
       "    <tr>\n",
       "      <th>4</th>\n",
       "      <td>P00053842</td>\n",
       "      <td>26</td>\n",
       "      <td>35</td>\n",
       "      <td>0</td>\n",
       "      <td>1</td>\n",
       "      <td>3</td>\n",
       "      <td>1</td>\n",
       "      <td>0</td>\n",
       "      <td>4</td>\n",
       "      <td>5.0</td>\n",
       "      <td>12.0</td>\n",
       "      <td>NaN</td>\n",
       "    </tr>\n",
       "  </tbody>\n",
       "</table>\n",
       "</div>"
      ],
      "text/plain": [
       "  Product_ID  min_age  max_age  Gender M1 F0  Occupation  City_Category  \\\n",
       "0  P00128942       46       50             1           7              2   \n",
       "1  P00113442       26       35             1          17              3   \n",
       "2  P00288442       36       45             0           1              2   \n",
       "3  P00145342       36       45             0           1              2   \n",
       "4  P00053842       26       35             0           1              3   \n",
       "\n",
       "  Stay_In_Current_City_Years  Marital_Status  Product_Category_1  \\\n",
       "0                          2               1                   1   \n",
       "1                          0               0                   3   \n",
       "2                         4+               1                   5   \n",
       "3                         4+               1                   4   \n",
       "4                          1               0                   4   \n",
       "\n",
       "   Product_Category_2  Product_Category_3  Purchase  \n",
       "0                11.0                 NaN       NaN  \n",
       "1                 5.0                 NaN       NaN  \n",
       "2                14.0                 NaN       NaN  \n",
       "3                 9.0                 NaN       NaN  \n",
       "4                 5.0                12.0       NaN  "
      ]
     },
     "execution_count": 28,
     "metadata": {},
     "output_type": "execute_result"
    }
   ],
   "source": [
    "last.head()"
   ]
  },
  {
   "cell_type": "code",
   "execution_count": 29,
   "id": "ea69de87",
   "metadata": {
    "execution": {
     "iopub.execute_input": "2025-06-20T18:34:48.347106Z",
     "iopub.status.busy": "2025-06-20T18:34:48.346766Z",
     "iopub.status.idle": "2025-06-20T18:34:48.454708Z",
     "shell.execute_reply": "2025-06-20T18:34:48.453673Z"
    },
    "papermill": {
     "duration": 0.119699,
     "end_time": "2025-06-20T18:34:48.456321",
     "exception": false,
     "start_time": "2025-06-20T18:34:48.336622",
     "status": "completed"
    },
    "tags": []
   },
   "outputs": [
    {
     "name": "stdout",
     "output_type": "stream",
     "text": [
      "<class 'pandas.core.frame.DataFrame'>\n",
      "RangeIndex: 783667 entries, 0 to 783666\n",
      "Data columns (total 12 columns):\n",
      " #   Column                      Non-Null Count   Dtype  \n",
      "---  ------                      --------------   -----  \n",
      " 0   Product_ID                  783667 non-null  object \n",
      " 1   min_age                     783667 non-null  int64  \n",
      " 2   max_age                     783667 non-null  int64  \n",
      " 3   Gender M1 F0                783667 non-null  int64  \n",
      " 4   Occupation                  783667 non-null  int64  \n",
      " 5   City_Category               783667 non-null  int64  \n",
      " 6   Stay_In_Current_City_Years  783667 non-null  object \n",
      " 7   Marital_Status              783667 non-null  int64  \n",
      " 8   Product_Category_1          783667 non-null  int64  \n",
      " 9   Product_Category_2          537685 non-null  float64\n",
      " 10  Product_Category_3          237858 non-null  float64\n",
      " 11  Purchase                    550068 non-null  float64\n",
      "dtypes: float64(3), int64(7), object(2)\n",
      "memory usage: 71.7+ MB\n"
     ]
    }
   ],
   "source": [
    "last.info()"
   ]
  },
  {
   "cell_type": "code",
   "execution_count": 30,
   "id": "eaa1f4be",
   "metadata": {
    "execution": {
     "iopub.execute_input": "2025-06-20T18:34:48.476769Z",
     "iopub.status.busy": "2025-06-20T18:34:48.476461Z",
     "iopub.status.idle": "2025-06-20T18:34:48.514182Z",
     "shell.execute_reply": "2025-06-20T18:34:48.513276Z"
    },
    "papermill": {
     "duration": 0.049827,
     "end_time": "2025-06-20T18:34:48.515789",
     "exception": false,
     "start_time": "2025-06-20T18:34:48.465962",
     "status": "completed"
    },
    "tags": []
   },
   "outputs": [
    {
     "data": {
      "text/plain": [
       "array(['2', '0', '4+', '1', '3'], dtype=object)"
      ]
     },
     "execution_count": 30,
     "metadata": {},
     "output_type": "execute_result"
    }
   ],
   "source": [
    "last['Stay_In_Current_City_Years'].unique()"
   ]
  },
  {
   "cell_type": "code",
   "execution_count": 31,
   "id": "5e3bc1bc",
   "metadata": {
    "execution": {
     "iopub.execute_input": "2025-06-20T18:34:48.537266Z",
     "iopub.status.busy": "2025-06-20T18:34:48.536933Z",
     "iopub.status.idle": "2025-06-20T18:34:48.617706Z",
     "shell.execute_reply": "2025-06-20T18:34:48.616594Z"
    },
    "papermill": {
     "duration": 0.093831,
     "end_time": "2025-06-20T18:34:48.619451",
     "exception": false,
     "start_time": "2025-06-20T18:34:48.525620",
     "status": "completed"
    },
    "tags": []
   },
   "outputs": [],
   "source": [
    "last['Stay_In_Current_City_Years']=last['Stay_In_Current_City_Years'].replace({'4+':4})"
   ]
  },
  {
   "cell_type": "code",
   "execution_count": 32,
   "id": "629c262b",
   "metadata": {
    "execution": {
     "iopub.execute_input": "2025-06-20T18:34:48.642279Z",
     "iopub.status.busy": "2025-06-20T18:34:48.641959Z",
     "iopub.status.idle": "2025-06-20T18:34:48.704949Z",
     "shell.execute_reply": "2025-06-20T18:34:48.704000Z"
    },
    "papermill": {
     "duration": 0.075216,
     "end_time": "2025-06-20T18:34:48.706450",
     "exception": false,
     "start_time": "2025-06-20T18:34:48.631234",
     "status": "completed"
    },
    "tags": []
   },
   "outputs": [],
   "source": [
    "last['Stay_In_Current_City_Years']=last['Stay_In_Current_City_Years'].astype(int)"
   ]
  },
  {
   "cell_type": "code",
   "execution_count": 33,
   "id": "cc92d3e6",
   "metadata": {
    "execution": {
     "iopub.execute_input": "2025-06-20T18:34:48.726787Z",
     "iopub.status.busy": "2025-06-20T18:34:48.726466Z",
     "iopub.status.idle": "2025-06-20T18:34:48.801505Z",
     "shell.execute_reply": "2025-06-20T18:34:48.800308Z"
    },
    "papermill": {
     "duration": 0.087159,
     "end_time": "2025-06-20T18:34:48.803174",
     "exception": false,
     "start_time": "2025-06-20T18:34:48.716015",
     "status": "completed"
    },
    "tags": []
   },
   "outputs": [
    {
     "name": "stdout",
     "output_type": "stream",
     "text": [
      "<class 'pandas.core.frame.DataFrame'>\n",
      "RangeIndex: 783667 entries, 0 to 783666\n",
      "Data columns (total 12 columns):\n",
      " #   Column                      Non-Null Count   Dtype  \n",
      "---  ------                      --------------   -----  \n",
      " 0   Product_ID                  783667 non-null  object \n",
      " 1   min_age                     783667 non-null  int64  \n",
      " 2   max_age                     783667 non-null  int64  \n",
      " 3   Gender M1 F0                783667 non-null  int64  \n",
      " 4   Occupation                  783667 non-null  int64  \n",
      " 5   City_Category               783667 non-null  int64  \n",
      " 6   Stay_In_Current_City_Years  783667 non-null  int64  \n",
      " 7   Marital_Status              783667 non-null  int64  \n",
      " 8   Product_Category_1          783667 non-null  int64  \n",
      " 9   Product_Category_2          537685 non-null  float64\n",
      " 10  Product_Category_3          237858 non-null  float64\n",
      " 11  Purchase                    550068 non-null  float64\n",
      "dtypes: float64(3), int64(8), object(1)\n",
      "memory usage: 71.7+ MB\n"
     ]
    }
   ],
   "source": [
    "last.info()"
   ]
  },
  {
   "cell_type": "code",
   "execution_count": 34,
   "id": "209ed5d8",
   "metadata": {
    "execution": {
     "iopub.execute_input": "2025-06-20T18:34:48.825202Z",
     "iopub.status.busy": "2025-06-20T18:34:48.824298Z",
     "iopub.status.idle": "2025-06-20T18:34:48.893944Z",
     "shell.execute_reply": "2025-06-20T18:34:48.892733Z"
    },
    "papermill": {
     "duration": 0.082488,
     "end_time": "2025-06-20T18:34:48.895574",
     "exception": false,
     "start_time": "2025-06-20T18:34:48.813086",
     "status": "completed"
    },
    "tags": []
   },
   "outputs": [
    {
     "data": {
      "text/plain": [
       "Product_ID                         0\n",
       "min_age                            0\n",
       "max_age                            0\n",
       "Gender M1 F0                       0\n",
       "Occupation                         0\n",
       "City_Category                      0\n",
       "Stay_In_Current_City_Years         0\n",
       "Marital_Status                     0\n",
       "Product_Category_1                 0\n",
       "Product_Category_2            245982\n",
       "Product_Category_3            545809\n",
       "Purchase                      233599\n",
       "dtype: int64"
      ]
     },
     "execution_count": 34,
     "metadata": {},
     "output_type": "execute_result"
    }
   ],
   "source": [
    "## Missing Values \n",
    "last.isnull().sum()"
   ]
  },
  {
   "cell_type": "code",
   "execution_count": 35,
   "id": "92381d76",
   "metadata": {
    "execution": {
     "iopub.execute_input": "2025-06-20T18:34:48.916724Z",
     "iopub.status.busy": "2025-06-20T18:34:48.916404Z",
     "iopub.status.idle": "2025-06-20T18:34:48.931893Z",
     "shell.execute_reply": "2025-06-20T18:34:48.931001Z"
    },
    "papermill": {
     "duration": 0.027852,
     "end_time": "2025-06-20T18:34:48.933603",
     "exception": false,
     "start_time": "2025-06-20T18:34:48.905751",
     "status": "completed"
    },
    "tags": []
   },
   "outputs": [],
   "source": [
    "## Replace the missing values with mode\n",
    "last['Product_Category_2']=last['Product_Category_2'].fillna(8.0)"
   ]
  },
  {
   "cell_type": "code",
   "execution_count": 36,
   "id": "2ff6d389",
   "metadata": {
    "execution": {
     "iopub.execute_input": "2025-06-20T18:34:48.954746Z",
     "iopub.status.busy": "2025-06-20T18:34:48.954417Z",
     "iopub.status.idle": "2025-06-20T18:34:48.969762Z",
     "shell.execute_reply": "2025-06-20T18:34:48.968593Z"
    },
    "papermill": {
     "duration": 0.027863,
     "end_time": "2025-06-20T18:34:48.971484",
     "exception": false,
     "start_time": "2025-06-20T18:34:48.943621",
     "status": "completed"
    },
    "tags": []
   },
   "outputs": [],
   "source": [
    "last['Product_Category_3']=last['Product_Category_3'].fillna(16.0)"
   ]
  },
  {
   "cell_type": "code",
   "execution_count": 37,
   "id": "7f43fe44",
   "metadata": {
    "execution": {
     "iopub.execute_input": "2025-06-20T18:34:48.993596Z",
     "iopub.status.busy": "2025-06-20T18:34:48.993289Z",
     "iopub.status.idle": "2025-06-20T18:34:49.008838Z",
     "shell.execute_reply": "2025-06-20T18:34:49.008067Z"
    },
    "papermill": {
     "duration": 0.028484,
     "end_time": "2025-06-20T18:34:49.010268",
     "exception": false,
     "start_time": "2025-06-20T18:34:48.981784",
     "status": "completed"
    },
    "tags": []
   },
   "outputs": [
    {
     "data": {
      "text/html": [
       "<div>\n",
       "<style scoped>\n",
       "    .dataframe tbody tr th:only-of-type {\n",
       "        vertical-align: middle;\n",
       "    }\n",
       "\n",
       "    .dataframe tbody tr th {\n",
       "        vertical-align: top;\n",
       "    }\n",
       "\n",
       "    .dataframe thead th {\n",
       "        text-align: right;\n",
       "    }\n",
       "</style>\n",
       "<table border=\"1\" class=\"dataframe\">\n",
       "  <thead>\n",
       "    <tr style=\"text-align: right;\">\n",
       "      <th></th>\n",
       "      <th>Product_ID</th>\n",
       "      <th>min_age</th>\n",
       "      <th>max_age</th>\n",
       "      <th>Gender M1 F0</th>\n",
       "      <th>Occupation</th>\n",
       "      <th>City_Category</th>\n",
       "      <th>Stay_In_Current_City_Years</th>\n",
       "      <th>Marital_Status</th>\n",
       "      <th>Product_Category_1</th>\n",
       "      <th>Product_Category_2</th>\n",
       "      <th>Product_Category_3</th>\n",
       "      <th>Purchase</th>\n",
       "    </tr>\n",
       "  </thead>\n",
       "  <tbody>\n",
       "    <tr>\n",
       "      <th>0</th>\n",
       "      <td>P00128942</td>\n",
       "      <td>46</td>\n",
       "      <td>50</td>\n",
       "      <td>1</td>\n",
       "      <td>7</td>\n",
       "      <td>2</td>\n",
       "      <td>2</td>\n",
       "      <td>1</td>\n",
       "      <td>1</td>\n",
       "      <td>11.0</td>\n",
       "      <td>16.0</td>\n",
       "      <td>NaN</td>\n",
       "    </tr>\n",
       "    <tr>\n",
       "      <th>1</th>\n",
       "      <td>P00113442</td>\n",
       "      <td>26</td>\n",
       "      <td>35</td>\n",
       "      <td>1</td>\n",
       "      <td>17</td>\n",
       "      <td>3</td>\n",
       "      <td>0</td>\n",
       "      <td>0</td>\n",
       "      <td>3</td>\n",
       "      <td>5.0</td>\n",
       "      <td>16.0</td>\n",
       "      <td>NaN</td>\n",
       "    </tr>\n",
       "    <tr>\n",
       "      <th>2</th>\n",
       "      <td>P00288442</td>\n",
       "      <td>36</td>\n",
       "      <td>45</td>\n",
       "      <td>0</td>\n",
       "      <td>1</td>\n",
       "      <td>2</td>\n",
       "      <td>4</td>\n",
       "      <td>1</td>\n",
       "      <td>5</td>\n",
       "      <td>14.0</td>\n",
       "      <td>16.0</td>\n",
       "      <td>NaN</td>\n",
       "    </tr>\n",
       "    <tr>\n",
       "      <th>3</th>\n",
       "      <td>P00145342</td>\n",
       "      <td>36</td>\n",
       "      <td>45</td>\n",
       "      <td>0</td>\n",
       "      <td>1</td>\n",
       "      <td>2</td>\n",
       "      <td>4</td>\n",
       "      <td>1</td>\n",
       "      <td>4</td>\n",
       "      <td>9.0</td>\n",
       "      <td>16.0</td>\n",
       "      <td>NaN</td>\n",
       "    </tr>\n",
       "    <tr>\n",
       "      <th>4</th>\n",
       "      <td>P00053842</td>\n",
       "      <td>26</td>\n",
       "      <td>35</td>\n",
       "      <td>0</td>\n",
       "      <td>1</td>\n",
       "      <td>3</td>\n",
       "      <td>1</td>\n",
       "      <td>0</td>\n",
       "      <td>4</td>\n",
       "      <td>5.0</td>\n",
       "      <td>12.0</td>\n",
       "      <td>NaN</td>\n",
       "    </tr>\n",
       "    <tr>\n",
       "      <th>...</th>\n",
       "      <td>...</td>\n",
       "      <td>...</td>\n",
       "      <td>...</td>\n",
       "      <td>...</td>\n",
       "      <td>...</td>\n",
       "      <td>...</td>\n",
       "      <td>...</td>\n",
       "      <td>...</td>\n",
       "      <td>...</td>\n",
       "      <td>...</td>\n",
       "      <td>...</td>\n",
       "      <td>...</td>\n",
       "    </tr>\n",
       "    <tr>\n",
       "      <th>783662</th>\n",
       "      <td>P00372445</td>\n",
       "      <td>51</td>\n",
       "      <td>55</td>\n",
       "      <td>1</td>\n",
       "      <td>13</td>\n",
       "      <td>2</td>\n",
       "      <td>1</td>\n",
       "      <td>1</td>\n",
       "      <td>20</td>\n",
       "      <td>8.0</td>\n",
       "      <td>16.0</td>\n",
       "      <td>368.0</td>\n",
       "    </tr>\n",
       "    <tr>\n",
       "      <th>783663</th>\n",
       "      <td>P00375436</td>\n",
       "      <td>26</td>\n",
       "      <td>35</td>\n",
       "      <td>0</td>\n",
       "      <td>1</td>\n",
       "      <td>3</td>\n",
       "      <td>3</td>\n",
       "      <td>0</td>\n",
       "      <td>20</td>\n",
       "      <td>8.0</td>\n",
       "      <td>16.0</td>\n",
       "      <td>371.0</td>\n",
       "    </tr>\n",
       "    <tr>\n",
       "      <th>783664</th>\n",
       "      <td>P00375436</td>\n",
       "      <td>26</td>\n",
       "      <td>35</td>\n",
       "      <td>0</td>\n",
       "      <td>15</td>\n",
       "      <td>2</td>\n",
       "      <td>4</td>\n",
       "      <td>1</td>\n",
       "      <td>20</td>\n",
       "      <td>8.0</td>\n",
       "      <td>16.0</td>\n",
       "      <td>137.0</td>\n",
       "    </tr>\n",
       "    <tr>\n",
       "      <th>783665</th>\n",
       "      <td>P00375436</td>\n",
       "      <td>55</td>\n",
       "      <td>80</td>\n",
       "      <td>0</td>\n",
       "      <td>1</td>\n",
       "      <td>3</td>\n",
       "      <td>2</td>\n",
       "      <td>0</td>\n",
       "      <td>20</td>\n",
       "      <td>8.0</td>\n",
       "      <td>16.0</td>\n",
       "      <td>365.0</td>\n",
       "    </tr>\n",
       "    <tr>\n",
       "      <th>783666</th>\n",
       "      <td>P00371644</td>\n",
       "      <td>46</td>\n",
       "      <td>50</td>\n",
       "      <td>0</td>\n",
       "      <td>0</td>\n",
       "      <td>2</td>\n",
       "      <td>4</td>\n",
       "      <td>1</td>\n",
       "      <td>20</td>\n",
       "      <td>8.0</td>\n",
       "      <td>16.0</td>\n",
       "      <td>490.0</td>\n",
       "    </tr>\n",
       "  </tbody>\n",
       "</table>\n",
       "<p>783667 rows × 12 columns</p>\n",
       "</div>"
      ],
      "text/plain": [
       "       Product_ID  min_age  max_age  Gender M1 F0  Occupation  City_Category  \\\n",
       "0       P00128942       46       50             1           7              2   \n",
       "1       P00113442       26       35             1          17              3   \n",
       "2       P00288442       36       45             0           1              2   \n",
       "3       P00145342       36       45             0           1              2   \n",
       "4       P00053842       26       35             0           1              3   \n",
       "...           ...      ...      ...           ...         ...            ...   \n",
       "783662  P00372445       51       55             1          13              2   \n",
       "783663  P00375436       26       35             0           1              3   \n",
       "783664  P00375436       26       35             0          15              2   \n",
       "783665  P00375436       55       80             0           1              3   \n",
       "783666  P00371644       46       50             0           0              2   \n",
       "\n",
       "        Stay_In_Current_City_Years  Marital_Status  Product_Category_1  \\\n",
       "0                                2               1                   1   \n",
       "1                                0               0                   3   \n",
       "2                                4               1                   5   \n",
       "3                                4               1                   4   \n",
       "4                                1               0                   4   \n",
       "...                            ...             ...                 ...   \n",
       "783662                           1               1                  20   \n",
       "783663                           3               0                  20   \n",
       "783664                           4               1                  20   \n",
       "783665                           2               0                  20   \n",
       "783666                           4               1                  20   \n",
       "\n",
       "        Product_Category_2  Product_Category_3  Purchase  \n",
       "0                     11.0                16.0       NaN  \n",
       "1                      5.0                16.0       NaN  \n",
       "2                     14.0                16.0       NaN  \n",
       "3                      9.0                16.0       NaN  \n",
       "4                      5.0                12.0       NaN  \n",
       "...                    ...                 ...       ...  \n",
       "783662                 8.0                16.0     368.0  \n",
       "783663                 8.0                16.0     371.0  \n",
       "783664                 8.0                16.0     137.0  \n",
       "783665                 8.0                16.0     365.0  \n",
       "783666                 8.0                16.0     490.0  \n",
       "\n",
       "[783667 rows x 12 columns]"
      ]
     },
     "execution_count": 37,
     "metadata": {},
     "output_type": "execute_result"
    }
   ],
   "source": [
    "last"
   ]
  },
  {
   "cell_type": "code",
   "execution_count": 38,
   "id": "2ab00192",
   "metadata": {
    "execution": {
     "iopub.execute_input": "2025-06-20T18:34:49.031680Z",
     "iopub.status.busy": "2025-06-20T18:34:49.031343Z",
     "iopub.status.idle": "2025-06-20T18:34:49.049068Z",
     "shell.execute_reply": "2025-06-20T18:34:49.048289Z"
    },
    "papermill": {
     "duration": 0.030122,
     "end_time": "2025-06-20T18:34:49.050626",
     "exception": false,
     "start_time": "2025-06-20T18:34:49.020504",
     "status": "completed"
    },
    "tags": []
   },
   "outputs": [
    {
     "data": {
      "text/plain": [
       "array([   nan,  8370., 15200., ...,   135.,   123.,   613.])"
      ]
     },
     "execution_count": 38,
     "metadata": {},
     "output_type": "execute_result"
    }
   ],
   "source": [
    "last['Purchase'].unique()"
   ]
  },
  {
   "cell_type": "code",
   "execution_count": 39,
   "id": "d87b88b6",
   "metadata": {
    "execution": {
     "iopub.execute_input": "2025-06-20T18:34:49.072399Z",
     "iopub.status.busy": "2025-06-20T18:34:49.072079Z",
     "iopub.status.idle": "2025-06-20T18:35:08.546805Z",
     "shell.execute_reply": "2025-06-20T18:35:08.545883Z"
    },
    "papermill": {
     "duration": 19.487294,
     "end_time": "2025-06-20T18:35:08.548389",
     "exception": false,
     "start_time": "2025-06-20T18:34:49.061095",
     "status": "completed"
    },
    "tags": []
   },
   "outputs": [
    {
     "data": {
      "text/plain": [
       "<Axes: xlabel='min_age', ylabel='Purchase'>"
      ]
     },
     "execution_count": 39,
     "metadata": {},
     "output_type": "execute_result"
    },
    {
     "data": {
      "image/png": "[encoded data removed]",
      "text/plain": [
       "<Figure size 640x480 with 1 Axes>"
      ]
     },
     "metadata": {},
     "output_type": "display_data"
    }
   ],
   "source": [
    "sns.barplot(x='min_age',y='Purchase',hue='Gender M1 F0',data=last)\n"
   ]
  },
  {
   "cell_type": "markdown",
   "id": "6d629598",
   "metadata": {
    "papermill": {
     "duration": 0.01065,
     "end_time": "2025-06-20T18:35:08.569888",
     "exception": false,
     "start_time": "2025-06-20T18:35:08.559238",
     "status": "completed"
    },
    "tags": []
   },
   "source": [
    "## Man purchase more than female \n",
    "## Range of purchase in all age groups are almost equal"
   ]
  },
  {
   "cell_type": "code",
   "execution_count": 40,
   "id": "01d2414b",
   "metadata": {
    "execution": {
     "iopub.execute_input": "2025-06-20T18:35:08.592818Z",
     "iopub.status.busy": "2025-06-20T18:35:08.592539Z",
     "iopub.status.idle": "2025-06-20T18:35:08.615152Z",
     "shell.execute_reply": "2025-06-20T18:35:08.614426Z"
    },
    "papermill": {
     "duration": 0.035711,
     "end_time": "2025-06-20T18:35:08.616708",
     "exception": false,
     "start_time": "2025-06-20T18:35:08.580997",
     "status": "completed"
    },
    "tags": []
   },
   "outputs": [
    {
     "data": {
      "text/plain": [
       "Gender M1 F0\n",
       "0    8734.565765\n",
       "1    9437.526040\n",
       "Name: Purchase, dtype: float64"
      ]
     },
     "execution_count": 40,
     "metadata": {},
     "output_type": "execute_result"
    }
   ],
   "source": [
    "last.groupby('Gender M1 F0')['Purchase'].mean()\n"
   ]
  },
  {
   "cell_type": "code",
   "execution_count": 41,
   "id": "14ec04d2",
   "metadata": {
    "execution": {
     "iopub.execute_input": "2025-06-20T18:35:08.639761Z",
     "iopub.status.busy": "2025-06-20T18:35:08.639479Z",
     "iopub.status.idle": "2025-06-20T18:35:08.663973Z",
     "shell.execute_reply": "2025-06-20T18:35:08.663067Z"
    },
    "papermill": {
     "duration": 0.038227,
     "end_time": "2025-06-20T18:35:08.665765",
     "exception": false,
     "start_time": "2025-06-20T18:35:08.627538",
     "status": "completed"
    },
    "tags": []
   },
   "outputs": [
    {
     "data": {
      "text/html": [
       "<div>\n",
       "<style scoped>\n",
       "    .dataframe tbody tr th:only-of-type {\n",
       "        vertical-align: middle;\n",
       "    }\n",
       "\n",
       "    .dataframe tbody tr th {\n",
       "        vertical-align: top;\n",
       "    }\n",
       "\n",
       "    .dataframe thead th {\n",
       "        text-align: right;\n",
       "    }\n",
       "</style>\n",
       "<table border=\"1\" class=\"dataframe\">\n",
       "  <thead>\n",
       "    <tr style=\"text-align: right;\">\n",
       "      <th></th>\n",
       "      <th>min_age</th>\n",
       "      <th>Purchase</th>\n",
       "    </tr>\n",
       "  </thead>\n",
       "  <tbody>\n",
       "    <tr>\n",
       "      <th>0</th>\n",
       "      <td>26</td>\n",
       "      <td>2.031771e+09</td>\n",
       "    </tr>\n",
       "    <tr>\n",
       "      <th>1</th>\n",
       "      <td>36</td>\n",
       "      <td>1.026570e+09</td>\n",
       "    </tr>\n",
       "    <tr>\n",
       "      <th>2</th>\n",
       "      <td>18</td>\n",
       "      <td>9.138487e+08</td>\n",
       "    </tr>\n",
       "    <tr>\n",
       "      <th>3</th>\n",
       "      <td>46</td>\n",
       "      <td>4.208434e+08</td>\n",
       "    </tr>\n",
       "    <tr>\n",
       "      <th>4</th>\n",
       "      <td>51</td>\n",
       "      <td>3.670996e+08</td>\n",
       "    </tr>\n",
       "    <tr>\n",
       "      <th>5</th>\n",
       "      <td>55</td>\n",
       "      <td>2.007674e+08</td>\n",
       "    </tr>\n",
       "    <tr>\n",
       "      <th>6</th>\n",
       "      <td>0</td>\n",
       "      <td>1.349132e+08</td>\n",
       "    </tr>\n",
       "  </tbody>\n",
       "</table>\n",
       "</div>"
      ],
      "text/plain": [
       "   min_age      Purchase\n",
       "0       26  2.031771e+09\n",
       "1       36  1.026570e+09\n",
       "2       18  9.138487e+08\n",
       "3       46  4.208434e+08\n",
       "4       51  3.670996e+08\n",
       "5       55  2.007674e+08\n",
       "6        0  1.349132e+08"
      ]
     },
     "execution_count": 41,
     "metadata": {},
     "output_type": "execute_result"
    }
   ],
   "source": [
    "last.groupby('min_age')['Purchase'].sum().sort_values(ascending=False).reset_index()\n"
   ]
  },
  {
   "cell_type": "markdown",
   "id": "cf70814c",
   "metadata": {
    "papermill": {
     "duration": 0.011924,
     "end_time": "2025-06-20T18:35:08.689026",
     "exception": false,
     "start_time": "2025-06-20T18:35:08.677102",
     "status": "completed"
    },
    "tags": []
   },
   "source": [
    "## 26-35 age group contributed the most revenue \n",
    "## High cost purchases was done by age group (51-55)"
   ]
  },
  {
   "cell_type": "code",
   "execution_count": 42,
   "id": "81d619a6",
   "metadata": {
    "execution": {
     "iopub.execute_input": "2025-06-20T18:35:08.712914Z",
     "iopub.status.busy": "2025-06-20T18:35:08.712109Z",
     "iopub.status.idle": "2025-06-20T18:35:27.239328Z",
     "shell.execute_reply": "2025-06-20T18:35:27.238481Z"
    },
    "papermill": {
     "duration": 18.540442,
     "end_time": "2025-06-20T18:35:27.240901",
     "exception": false,
     "start_time": "2025-06-20T18:35:08.700459",
     "status": "completed"
    },
    "tags": []
   },
   "outputs": [
    {
     "data": {
      "text/plain": [
       "<Axes: xlabel='max_age', ylabel='Purchase'>"
      ]
     },
     "execution_count": 42,
     "metadata": {},
     "output_type": "execute_result"
    },
    {
     "data": {
      "image/png": "[encoded data removed]",
      "text/plain": [
       "<Figure size 640x480 with 1 Axes>"
      ]
     },
     "metadata": {},
     "output_type": "display_data"
    }
   ],
   "source": [
    "sns.barplot(x='max_age',y='Purchase',hue='Marital_Status',data=last)"
   ]
  },
  {
   "cell_type": "code",
   "execution_count": 43,
   "id": "33f3468c",
   "metadata": {
    "execution": {
     "iopub.execute_input": "2025-06-20T18:35:27.265584Z",
     "iopub.status.busy": "2025-06-20T18:35:27.265235Z",
     "iopub.status.idle": "2025-06-20T18:35:27.284821Z",
     "shell.execute_reply": "2025-06-20T18:35:27.283977Z"
    },
    "papermill": {
     "duration": 0.033633,
     "end_time": "2025-06-20T18:35:27.286394",
     "exception": false,
     "start_time": "2025-06-20T18:35:27.252761",
     "status": "completed"
    },
    "tags": []
   },
   "outputs": [
    {
     "data": {
      "text/plain": [
       "Marital_Status\n",
       "0    3.008927e+09\n",
       "1    2.086885e+09\n",
       "Name: Purchase, dtype: float64"
      ]
     },
     "execution_count": 43,
     "metadata": {},
     "output_type": "execute_result"
    }
   ],
   "source": [
    "last.groupby('Marital_Status')['Purchase'].sum()"
   ]
  },
  {
   "cell_type": "code",
   "execution_count": 44,
   "id": "ad38a5c5",
   "metadata": {
    "execution": {
     "iopub.execute_input": "2025-06-20T18:35:27.309802Z",
     "iopub.status.busy": "2025-06-20T18:35:27.309520Z",
     "iopub.status.idle": "2025-06-20T18:35:27.330062Z",
     "shell.execute_reply": "2025-06-20T18:35:27.329195Z"
    },
    "papermill": {
     "duration": 0.03385,
     "end_time": "2025-06-20T18:35:27.331505",
     "exception": false,
     "start_time": "2025-06-20T18:35:27.297655",
     "status": "completed"
    },
    "tags": []
   },
   "outputs": [
    {
     "data": {
      "text/plain": [
       "City_Category\n",
       "1    8911.939216\n",
       "2    9151.300563\n",
       "3    9719.920993\n",
       "Name: Purchase, dtype: float64"
      ]
     },
     "execution_count": 44,
     "metadata": {},
     "output_type": "execute_result"
    }
   ],
   "source": [
    "last.groupby('City_Category')['Purchase'].mean()\n"
   ]
  },
  {
   "cell_type": "markdown",
   "id": "9624b6b7",
   "metadata": {
    "papermill": {
     "duration": 0.011021,
     "end_time": "2025-06-20T18:35:27.354001",
     "exception": false,
     "start_time": "2025-06-20T18:35:27.342980",
     "status": "completed"
    },
    "tags": []
   },
   "source": []
  }
 ],
 "metadata": {
  "kaggle": {
   "accelerator": "none",
   "dataSources": [
    {
     "datasetId": 7706646,
     "sourceId": 12231283,
     "sourceType": "datasetVersion"
    }
   ],
   "dockerImageVersionId": 31040,
   "isGpuEnabled": false,
   "isInternetEnabled": true,
   "language": "python",
   "sourceType": "notebook"
  },
  "kernelspec": {
   "display_name": "Python 3",
   "language": "python",
   "name": "python3"
  },
  "language_info": {
   "codemirror_mode": {
    "name": "ipython",
    "version": 3
   },
   "file_extension": ".py",
   "mimetype": "text/x-python",
   "name": "python",
   "nbconvert_exporter": "python",
   "pygments_lexer": "ipython3",
   "version": "3.11.11"
  },
  "papermill": {
   "default_parameters": {},
   "duration": 53.777306,
   "end_time": "2025-06-20T18:35:28.084654",
   "environment_variables": {},
   "exception": null,
   "input_path": "__notebook__.ipynb",
   "output_path": "__notebook__.ipynb",
   "parameters": {},
   "start_time": "2025-06-20T18:34:34.307348",
   "version": "2.6.0"
  }
 },
 "nbformat": 4,
 "nbformat_minor": 5
}
